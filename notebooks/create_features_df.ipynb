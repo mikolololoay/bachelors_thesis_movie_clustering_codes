{
 "cells": [
  {
   "cell_type": "code",
   "execution_count": 222,
   "metadata": {},
   "outputs": [],
   "source": [
    "import os\n",
    "import pickle\n",
    "import pandas as pd\n",
    "import numpy as np\n",
    "import math\n",
    "import seaborn as sns\n",
    "import matplotlib.pyplot as plt\n",
    "import re"
   ]
  },
  {
   "cell_type": "code",
   "execution_count": 2,
   "metadata": {},
   "outputs": [],
   "source": [
    "rootdir = 'D:/licencjat/bachelors_thesis_movie_clustering_codes/raw_data/boxoffice_data'\n",
    "movies_data_dict = {}\n",
    "\n",
    "for subdir, dirs, files in os.walk(rootdir):\n",
    "    for file in files:\n",
    "        pickle_path = os.path.join(subdir, file)\n",
    "        with open(pickle_path, 'rb') as f:\n",
    "            movie_data = pickle.load(f)\n",
    "        movie_title = subdir.replace('D:/licencjat/bachelors_thesis_movie_clustering_codes/raw_data/boxoffice_data\\\\', '')\n",
    "        movies_data_dict[movie_title] = movie_data"
   ]
  },
  {
   "cell_type": "code",
   "execution_count": 345,
   "metadata": {},
   "outputs": [],
   "source": [
    "# klucze tego słownika to numery tabel\n",
    "features_dict = {0:['Domestic Box Office', 'International Box Office', 'Worldwide Box Office'],\n",
    "                1:['Opening\\xa0Weekend:', 'Legs:', 'Domestic Share:', 'Theater counts:', 'Production\\xa0Budget:', 'Infl. Adj. Dom. BO'],\n",
    "                3:['MPAA\\xa0Rating:', 'Running Time:', 'Keywords:', 'Source:', 'Genre:', 'Production\\xa0Method:', 'Creative\\xa0Type:', 'Production Companies:', 'Production Countries:', 'Languages:', 'Franchise:'],\n",
    "                4:['Records where the movie is in top 5 count']\n",
    "                }\n",
    "\n",
    "features_list = features_dict[0] + features_dict[1] + features_dict[3] + features_dict[4]\n",
    "\n",
    "features_df = pd.DataFrame(index=features_list, columns=movies_data_dict.keys())"
   ]
  },
  {
   "cell_type": "code",
   "execution_count": 346,
   "metadata": {
    "tags": [
     "outputPrepend"
    ]
   },
   "outputs": [],
   "source": [
    "# sprawdzam czy zawsze indeksy są niezmienne i odwołują się do tych samych tabel.\n",
    "\n",
    "for key in movies_data_dict:\n",
    "    movie_tables = movies_data_dict[key]\n",
    "\n",
    "    intersection = set(movie_tables[0][0]).intersection(features_dict[0])\n",
    "    if len(intersection) < 3:\n",
    "        print('table_0', key, str(len(intersection)))\n",
    "\n",
    "    intersection = set(movie_tables[1][0]).intersection(features_dict[1])\n",
    "    if len(intersection) < 5:\n",
    "        print(intersection)\n",
    "        print('table_1', key, str(len(intersection)))\n",
    "\n",
    "    intersection = set(movie_tables[3][0]).intersection(features_dict[3])\n",
    "    if len(intersection) < 6:\n",
    "        print('table_3', key, str(len(intersection)))\n",
    "\n",
    "    intersection = set(movie_tables[4].columns).intersection(set(['Record', 'Rank', 'Amount', 'ChartDate', 'Days InRelease']))\n",
    "    if  len(intersection) < 5:\n",
    "        print('table_4', key, str(len(intersection)))\n",
    "\n",
    "# wniosek: wszystko się zgadza!\n",
    "        "
   ]
  },
  {
   "cell_type": "code",
   "execution_count": 349,
   "metadata": {},
   "outputs": [],
   "source": [
    "def get_features_from_table(table_num, features_dict, movie_tables, movie_title, features_df):\n",
    "    table = movie_tables[table_num]\n",
    "    features_in_table = features_dict[table_num]\n",
    "\n",
    "    if table_num != 4:\n",
    "        for feature in features_in_table:\n",
    "            if feature in list(table[0]):\n",
    "                features_df.loc[feature, movie_title] = list(table[table[0]==feature][1])[0]\n",
    "            else:\n",
    "                features_df.loc[feature, movie_title] = np.nan\n",
    "\n",
    "    else:\n",
    "        features_df.loc['Records where the movie is in top 5 count', movie_title] = (table['Rank'] <= 5).sum()"
   ]
  },
  {
   "cell_type": "code",
   "execution_count": 350,
   "metadata": {},
   "outputs": [],
   "source": [
    "for key in movies_data_dict:\n",
    "    movie_tables = movies_data_dict[key]\n",
    "    get_features_from_table(0, features_dict, movie_tables, key, features_df)\n",
    "    get_features_from_table(1, features_dict, movie_tables, key, features_df)\n",
    "    get_features_from_table(3, features_dict, movie_tables, key, features_df)\n",
    "    get_features_from_table(4, features_dict, movie_tables, key, features_df)"
   ]
  },
  {
   "cell_type": "code",
   "execution_count": 394,
   "metadata": {},
   "outputs": [],
   "source": [
    "features_df_transposed = features_df.T"
   ]
  },
  {
   "cell_type": "code",
   "execution_count": 395,
   "metadata": {},
   "outputs": [
    {
     "output_type": "execute_result",
     "data": {
      "text/plain": "Index(['Domestic Box Office', 'International Box Office',\n       'Worldwide Box Office', 'Opening Weekend:', 'Legs:', 'Domestic Share:',\n       'Theater counts:', 'Production Budget:', 'Infl. Adj. Dom. BO',\n       'MPAA Rating:', 'Running Time:', 'Keywords:', 'Source:', 'Genre:',\n       'Production Method:', 'Creative Type:', 'Production Companies:',\n       'Production Countries:', 'Languages:', 'Franchise:',\n       'Records where the movie is in top 5 count'],\n      dtype='object')"
     },
     "metadata": {},
     "execution_count": 395
    }
   ],
   "source": [
    "features_df_transposed.columns"
   ]
  },
  {
   "cell_type": "code",
   "execution_count": 396,
   "metadata": {},
   "outputs": [],
   "source": [
    "features_df_transposed[['Domestic Box Office', 'International Box Office', 'Worldwide Box Office', 'Infl. Adj. Dom. BO']] = features_df_transposed[['Domestic Box Office', 'International Box Office', 'Worldwide Box Office', 'Infl. Adj. Dom. BO']].replace('\\$','', regex=True).replace(',','', regex=True)\n",
    "\n",
    "search = []    \n",
    "for values in features_df_transposed['Opening\\xa0Weekend:']:\n",
    "    search.append(re.search(r'\\d+\\.*\\d*\\%', values).group())\n",
    "features_df_transposed['opening weekend / total gross percentage'] = search\n",
    "features_df_transposed['opening weekend / total gross percentage'] = features_df_transposed['opening weekend / total gross percentage'].replace('\\%', '', regex=True)\n",
    "\n",
    "features_df_transposed['Opening\\xa0Weekend:'] = features_df_transposed['Opening\\xa0Weekend:'].replace('\\(.*\\)', '', regex=True).replace('\\$','', regex=True).replace(',','', regex=True)\n",
    "\n",
    "features_df_transposed['Legs (domestic box office/biggest weekend percentage)'] = features_df_transposed['Legs:'].replace('\\s*\\(.*\\)', '', regex=True)\n",
    "features_df_transposed = features_df_transposed.drop('Legs:', axis=1)\n",
    "\n",
    "features_df_transposed['Domestic Share (domestic box office/worldwide percentage)'] = features_df_transposed['Domestic Share:'].replace('\\%\\s\\(.*\\)', '', regex=True)\n",
    "features_df_transposed = features_df_transposed.drop('Domestic Share:', axis=1)\n",
    "\n",
    "features_df_transposed['Opening theaters'] = features_df_transposed['Theater counts:'].replace('\\s.+', '', regex=True).replace(',', '', regex=True)\n",
    "features_df_transposed['Max theaters'] = features_df_transposed['Theater counts:'].replace('\\d+,*\\d*\\s*opening theaters/', '', regex=True).replace('\\s.+', '', regex=True).replace(',', '', regex=True)\n",
    "features_df_transposed['Weeks average run per theater'] = features_df_transposed['Theater counts:'].replace('\\d+,*\\d* opening theaters/\\d+,*\\d* max\\. theaters, ', '', regex=True).replace('\\s.+', '', regex=True)\n",
    "features_df_transposed = features_df_transposed.drop('Theater counts:', axis=1)\n",
    "\n",
    "features_df_transposed['worldwide box office / production budget ratio'] = features_df_transposed['Production\\xa0Budget:'].replace('.+ \\(worldwide box office is ', '', regex=True).replace(' times production budget\\)', '', regex=True)\n",
    "features_df_transposed['Production\\xa0Budget:'] = features_df_transposed['Production\\xa0Budget:'].replace('\\s.+', '', regex=True).replace('\\$', '', regex=True).replace(',', '', regex=True)\n",
    "\n",
    "features_df_transposed['MPAA\\xa0Rating:'] = features_df_transposed['MPAA\\xa0Rating:'].replace('\\s.+', '', regex=True)\n",
    "\n",
    "features_df_transposed['Running Time:'] = features_df_transposed['Running Time:'].replace('\\s.+', '', regex=True)\n",
    "\n",
    "features_df_transposed['Franchise:'] = features_df_transposed['Franchise:'].replace('.*Marvel Cinematic Universe.*', 'Marvel Cinematic Universe', regex=True).replace('.*DC Extended Universe.*', 'DC Extended Universe', regex=True).replace('.*X-Men.*', '', regex=True).replace('.*Dark Knight Trilogy.*', 'Dark Knight Trilogy', regex=True).replace('.*Harry Potter.*', 'Harry Potter', regex=True).replace('.*Despicable Me.*', 'Despicable Me', regex=True).replace('.*Peter Jackson\\'s Lord of the Rings.*', 'Peter Jackson\\'s Lord of the Rings', regex=True).replace('.*Spider-Man.*', 'Spider-Man', regex=True)"
   ]
  },
  {
   "cell_type": "code",
   "execution_count": 408,
   "metadata": {},
   "outputs": [
    {
     "output_type": "execute_result",
     "data": {
      "text/plain": "2012                         Disaster, End of the World, Extreme Weather, V...\n22_Jump_Street               College, Undercover, Football, Narcotics, Budd...\n300                          Visual Effects, Historical Battles, Voiceover/...\nAladdin                      Remake, Live Action Cartoon, Wish Granters, Ro...\nAlice_in_Wonderland          3-D, Arranged Marriage, Talking Animals, Drago...\n                                                   ...                        \nX-Men_Days_of_Future_Past    Marvel Comics, Mutants, Time Travel, Robot, Po...\nX-Men_Origins_Wolverine                                          Marvel Comics\nX-Men_The_Last_Stand         Marvel Comics, Visual Effects, Mutants, 2000s,...\nxXx                          Secret Agent, Extreme Sports, Car Chase, Hosta...\nZootopia                     Beat Cops, Confidence Men, Talking Animals, An...\nName: Keywords:, Length: 261, dtype: object"
     },
     "metadata": {},
     "execution_count": 408
    }
   ],
   "source": [
    "features_df_transposed['Keywords:']"
   ]
  },
  {
   "cell_type": "code",
   "execution_count": 411,
   "metadata": {
    "tags": [
     "outputPrepend"
    ]
   },
   "outputs": [
    {
     "output_type": "execute_result",
     "data": {
      "text/plain": "{'1700s',\n '1910s',\n '1920s',\n '1930s',\n '1960s',\n '1970s',\n '1980s',\n '1990s',\n '2000s',\n '2010 Oscars Best Picture Nominee',\n '2011 Oscars Best Picture Nominee',\n '2013 Oscars Best Picture Nominee',\n '2014 Oscars Best Picture Nominee',\n '2015 Oscars Best Picture Nominee',\n '2016 Oscars Best Picture Nominee',\n '2019 Oscars Best Picture Nominee',\n '2020 Oscars Best Picture Nominee',\n '2020s',\n '3-D',\n '3-D - Post-production Conversion',\n '3-D - Shot in 3-D',\n '3D Re-release',\n 'A Cappella',\n 'AIDS',\n 'Abandoned Child',\n 'Academics',\n 'Accidental Engagement or Marriage',\n 'Accidental Injury',\n 'Actors Making Their Directorial Debut',\n 'Addiction',\n 'Adopted Family',\n 'Adult Child Dealing with the Death of a Parent',\n 'Afghanistan War',\n 'Africa',\n 'African-American',\n 'Agitprop',\n 'Alien Abduction',\n 'Alien Invasion',\n 'Alternate History',\n 'Alternate Reality Game',\n 'Alternative Dimensions / Parallel universe',\n 'Ancient Egypt',\n 'Animal Lead',\n 'Animals Gone Bad',\n 'Animated Inanimate Objects',\n 'Antarctica',\n 'Archaeology',\n 'Archival Footage of Previous Installment',\n 'Arms Dealer',\n 'Arranged Marriage',\n 'Artificial Intelligence',\n 'Artists',\n 'Assassination',\n 'Atlantis',\n 'Auto Racing',\n 'Autobiographical',\n 'Autumn Years',\n 'Baby Shower',\n 'Babysitters',\n 'Bachelor Party',\n 'Bad Role Models',\n 'Banishment',\n 'Bank Foreclosure',\n 'Bare Knuckle Fighting',\n 'Battle of the Sexes',\n 'Beat Cops',\n 'Berlin',\n 'Betrayal',\n 'Big Break',\n 'Bigotry',\n 'Biography',\n 'Black Out Drunk',\n 'Boarding School',\n 'Body Horror',\n 'Body in a Trunk',\n 'Boss From Hell',\n 'Breaking the Fourth Wall',\n 'Brooklyn',\n 'Bubonic Plague / Black Death',\n 'Buddy Comedy',\n 'Buddy Cop',\n 'Bullies',\n 'C.I.A.',\n 'California',\n 'Cancer',\n 'Cannibalism',\n 'Car Accident',\n 'Car Chase',\n 'Cavemen',\n \"Character's Journey Shown on Map\",\n 'Child Abuse',\n 'Child Actor',\n 'Child Murderer',\n 'Children Dealing with Divorce',\n 'Christmas',\n 'Christmas in November',\n 'Circus',\n 'City Mouse',\n 'Civil War',\n 'Class Warfare',\n 'Cliffhanger Ending',\n 'Cloning',\n 'Cold War',\n 'College',\n 'College Professor',\n 'Coma',\n 'Coming of Age',\n 'Confidence Men',\n 'Confined to a Wheelchair',\n 'Conspiracy Theory',\n 'Corporate Malfeasance',\n 'Corrupt Cops',\n 'Costume Drama',\n 'Country Mouse',\n 'Courtroom Drama',\n 'Cover Up',\n 'Creature Features',\n 'Crime Boss',\n 'Crime Caper',\n 'Cross-Class Romance',\n 'Cross-Dressing',\n 'Cruel Wardens or Prison Guards',\n 'Cryptozoology',\n 'Culture Clash',\n 'Curses',\n 'Cyborg',\n 'D.C.',\n 'D.C. Comics',\n 'Dancing',\n 'Dark Horse Comics',\n 'Day After',\n 'Dead Language',\n 'Death of Other Extended Family',\n 'Death of a Best Friend',\n 'Death of a Sibling',\n 'Death of a Son or Daughter',\n 'Death of a Spouse or Fiancée / Fiancé',\n 'Death of a Twin',\n 'Delayed Adulthood',\n 'Delayed Sequel',\n 'Demons',\n 'Depression',\n 'Development Hell',\n 'Digital Cinematography',\n 'Dinosaurs',\n 'Dinosaurs in the Modern World',\n 'Directing Yourself',\n 'Director Cameo',\n 'Disaster',\n 'Doctors',\n 'Double Agent',\n 'Dragon',\n 'Dream Sequence',\n 'Dwarves',\n 'Dysfunctional Family',\n 'Dystopia',\n 'Elves',\n 'End of the World',\n 'Enemies Forced to Work Together',\n 'England',\n 'Ensemble',\n 'Entertainment Industry',\n 'Environment',\n 'Epidemic',\n 'Epilogue',\n 'Escape',\n 'Exes in Love',\n 'Exile',\n 'Existential Crisis',\n 'Exorcism',\n 'Explorer',\n \"Exploring a Character's Mind\",\n 'Extreme Sports',\n 'Extreme Weather',\n 'FBI',\n 'Fairies',\n 'Fairy Godmother',\n 'Faith-Based',\n 'Faked Death',\n 'Faked Pregnancies',\n 'False Identity',\n 'Falsely Accused',\n 'Family Affair',\n 'Family Movie',\n 'Family Secrets',\n 'Fantasy Sequence',\n 'Fat Suit',\n \"Father's Footsteps\",\n 'Faulty Memory',\n 'Fictional Country',\n 'Field Scientists',\n 'Film Actor',\n 'Film Noir',\n 'Fired',\n 'First Love',\n 'Florida',\n 'Food',\n 'Football',\n 'Foreign Language',\n 'Foreign-Language Remake',\n 'Foster Family',\n 'Framed',\n 'France',\n 'Franchise Crossover',\n 'Frat Pack',\n 'Fraternity/Sorority',\n 'Friendly Alien on Earth',\n 'Friendly Ghost',\n 'Friends turned Enemies',\n 'Fugitive / On the Run',\n 'Gambling',\n 'Gangs',\n 'Genetic Engineering',\n 'Genocide',\n 'Gladiators',\n 'Gods and Goddesses',\n 'Good vs. Evil',\n 'Government Corruption',\n 'Graduation',\n 'Gratuitous Cameos',\n 'Greek Mythology',\n 'Hackers',\n 'Hallucinations',\n 'Hauntings',\n 'Heist',\n 'High School',\n 'Historical Battles',\n 'Hitmen',\n 'Hockey',\n 'Hollywood',\n 'Homeless',\n 'Hong Kong',\n 'Hostage',\n 'House Arrest',\n 'Human Animal Tranformation',\n 'Human Experimentation',\n 'Humans as Aliens',\n 'IMAX: DMR',\n 'Illinois',\n 'Immigration',\n 'In-Laws / Future In-Laws',\n 'Inbetwequel',\n 'Independent/Other Comics',\n 'India',\n 'Infertility',\n 'Infidelity',\n 'Inheritance',\n 'Inspirational Sports',\n 'Inspired by a True Story',\n 'Internet',\n 'Interspecies Romance',\n 'Intertitle',\n 'Invented Language',\n 'Inventor',\n 'Investigative Journalist',\n 'Iraq War',\n 'Isolation Horror',\n 'Italy',\n 'Job Interview',\n 'Judd Apatow Buddy Comedy',\n 'Jungle',\n 'Kaiju',\n 'Kidnap',\n 'Killer Clowns',\n 'LGBT',\n 'Language Barrier',\n 'Las Vegas',\n 'Lawyers',\n 'Letting Go',\n 'Life on a Farm',\n 'Live Action Cartoon',\n 'Living Toys',\n 'London',\n 'Lord of the Rings',\n 'Los Angeles',\n 'Lost',\n 'Love Triangle',\n 'Love at First Sight',\n 'Mad Scientist',\n 'Mafia',\n 'Magical Technology',\n 'Maine',\n 'Manhattan',\n 'Marooned',\n 'Mars',\n 'Martial Arts',\n 'Marvel Comics',\n 'Media Circus',\n 'Medical Crimes',\n 'Medical and Hospitals',\n 'Mental Illness',\n 'Mercenaries',\n 'Mermaids',\n 'Messy Divorce',\n 'Mexico',\n 'Mid-Life Crisis',\n 'Military Coup',\n 'Military Stealing New Invention',\n 'Mind Control',\n 'Missing Person',\n 'Missing Pet',\n 'Mistaken Identity',\n 'Monaco',\n 'Money Troubles',\n 'Monster',\n 'Monte Carlo',\n 'Moscow',\n 'Motion Capture Performance',\n 'Movie Business',\n 'Multiple Actors',\n 'Multiple Roles',\n 'Mummy',\n 'Museum',\n 'Music Industry',\n 'Musicians',\n 'Mutants',\n 'Narcotics',\n 'Nazis',\n 'Near Future',\n 'New Guy/Girl in School',\n 'New Mexico',\n 'New York',\n 'New York City',\n 'News',\n 'Newspaper Industry',\n 'Nigeria',\n 'Nightclub',\n 'Nightmare',\n 'Non-Chronological',\n 'Norse Mythology',\n 'Novel or Other Work Adapted by Author',\n 'Occult',\n 'Old Age Makeup',\n 'On a Boat',\n 'One Last Job',\n 'Organized Crime',\n 'Origin Story',\n 'Orlando',\n 'Orphan',\n 'Oscars Best Picture Winner',\n 'Outer Space',\n 'PTSD',\n 'Pacific Islanders',\n 'Paparazzi',\n 'Paralysis / Loss of a Limb',\n 'Parasite',\n 'Paris',\n 'Parkour',\n 'Performing Arts',\n 'Pirates',\n 'Police Procedural',\n 'Police Standoff',\n 'Police life',\n 'Political',\n 'Political Assassination',\n 'Politicians',\n 'Possessed',\n 'Post Apocalypse',\n 'Posthumous Release',\n 'Poverty',\n 'Prague',\n 'Prehistoric Times',\n 'Prequel',\n 'Presumed Dead',\n 'Prince/Princess',\n 'Prison',\n 'Prison Break',\n 'Prison Riot',\n 'Private Investigator',\n 'Professional Rivalry',\n 'Prologue',\n 'Prophecy',\n 'Prophetic Dreams',\n 'Prostitution',\n 'Psychics',\n 'Psychological Thriller',\n 'Rags to Riches',\n 'Raised By Wild Animals',\n 'Reality TV',\n 'Rebellion',\n 'Reboot',\n 'Recut',\n 'Redemption',\n 'Relationship Advice',\n 'Relationships Gone Wrong',\n 'Relatives Playing Relatives',\n 'Religious',\n 'Remake',\n 'Rescue',\n 'Restaurants',\n 'Returning Soldiers',\n 'Returning Stolen Items',\n 'Revenge',\n 'Revolution',\n 'Road Trip',\n 'Robot',\n \"Rock 'n' Roll\",\n 'Romance',\n 'Royalty',\n 'Runaway',\n 'Russia',\n 'Sales Clerk',\n 'Same Actor',\n 'Same Role',\n 'San Francisco',\n 'Scene in End Credits',\n 'Scientific Experiment Gone Awry',\n 'Screenplay Written By the Star',\n 'Secret Agent',\n 'Secret Identity',\n 'Secret Magic',\n 'Secret Societies',\n 'Seoul',\n 'Separated at Birth',\n 'Sequel With Lead Character Recast',\n 'Sequel With Returning Stars Playing New Characters',\n 'Sequels With Returning Stars',\n 'Sequels Without Their Original Stars',\n 'Serial Killer',\n 'Sex Crimes',\n 'Shadowy Organization',\n 'Shapeshifter',\n 'Shared Dreams',\n 'Siberia',\n 'Sibling Rivalry',\n 'Singers',\n 'Single Parent',\n 'Slavery',\n 'Slobs vs. Snobs',\n 'Slow Motion Scene',\n 'Smuggler',\n 'Sniper',\n 'Social Media',\n 'Social Outcast',\n 'South Korea',\n 'Space Opera',\n 'Space Program',\n 'Special Ops',\n 'Split Personality',\n 'Split Screen',\n 'Spoiled Child',\n 'Spoof',\n 'Stage Fright',\n 'Stage Magician',\n 'Stand-Up Comedy',\n 'Step-Family',\n 'Street Racing',\n 'Suicide Mission',\n 'Super Soldier Serum',\n 'Super Soldiers',\n 'Super Villains',\n 'Supernatural',\n 'Surprise Twist',\n 'Sword & Sorcerer',\n 'Tabloid Journalism',\n 'Talent Contest',\n 'Talking Animals',\n 'Terminal Illness',\n 'Terrorism',\n 'The Past Catching up with You',\n 'Theater',\n 'Time Travel',\n 'Tiny Worlds',\n 'Tortured for Information',\n 'Tournament',\n 'Training Montage',\n 'Trains',\n 'Trapped',\n 'Treasure Hunters',\n 'Troubled Pregnancy or Miscarriage',\n 'Tween',\n 'Twins',\n 'Unbelieving Police',\n 'Unconventional Pregnancies',\n 'Undercover',\n 'Underdog',\n 'Underwater',\n 'Underworld',\n 'Unexpected Families',\n 'Unexpected Pregnancy',\n 'Unnamed Character',\n 'Unrequited Love',\n 'Vacation',\n 'Vampire',\n 'Venice',\n 'Video Game',\n 'Vietnam',\n 'Vietnam War',\n 'Vigilante',\n 'Vikings',\n \"Villain's Point of View\",\n 'Viral Video',\n 'Virtual Reality',\n 'Visual Effects',\n 'Voiceover/Narration',\n 'Waking Up in an Unknown Location',\n 'War',\n 'Washington',\n 'Weapons of Mass Destruction',\n 'Wedding Crashers',\n 'Wedding Day',\n 'Wedding Day Disasters',\n 'Werewolf',\n 'Widow/Widower',\n 'Wish Granters',\n 'Witches',\n 'World War I',\n 'World War II',\n 'World War III',\n 'Wrongfully Convicted',\n 'Young Adult Book Adaptation',\n 'Young Child Dealing with the Death of a Parent',\n 'Zombies'}"
     },
     "metadata": {},
     "execution_count": 411
    }
   ],
   "source": [
    "keywords_set = set()\n",
    "for keywords in features_df_transposed['Keywords:'].dropna():\n",
    "    keywords_list = keywords.split(', ')\n",
    "    keywords_set.update(keywords_list)\n",
    "\n",
    "keywords_set"
   ]
  },
  {
   "cell_type": "code",
   "execution_count": 397,
   "metadata": {},
   "outputs": [
    {
     "output_type": "execute_result",
     "data": {
      "text/plain": "                          Domestic Box Office International Box Office  \\\n2012                                166112167                591565581   \n22_Jump_Street                      191719337                139614539   \n300                                 210614939                243546996   \nAladdin                             355559216                695400000   \nAlice_in_Wonderland                 334191110                691300000   \n...                                       ...                      ...   \nX-Men_Days_of_Future_Past           233921534                513941241   \nX-Men_Origins_Wolverine             179883157                194942603   \nX-Men_The_Last_Stand                234362462                224898484   \nxXx                                 141930000                125270000   \nZootopia                            341268248                682515947   \n\n                          Worldwide Box Office Opening Weekend:  \\\n2012                                 757677748        65237614    \n22_Jump_Street                       331333876        57071445    \n300                                  454161935        70885301    \nAladdin                             1050959216        91500929    \nAlice_in_Wonderland                 1025491110       116101023    \n...                                        ...              ...   \nX-Men_Days_of_Future_Past            747862775        90823660    \nX-Men_Origins_Wolverine              374825760        85058003    \nX-Men_The_Last_Stand                 459260946       102750665    \nxXx                                  267200000        44506103    \nZootopia                            1023784195        75063401    \n\n                          Production Budget: Infl. Adj. Dom. BO MPAA Rating:  \\\n2012                               200000000          201610604        PG-13   \n22_Jump_Street                      50000000          213777619            R   \n300                                 60000000          278881114            R   \nAladdin                            182000000          355559219           PG   \nAlice_in_Wonderland                200000000          385865775           PG   \n...                                      ...                ...          ...   \nX-Men_Days_of_Future_Past          200000000          260835388        PG-13   \nX-Men_Origins_Wolverine            150000000          218498075        PG-13   \nX-Men_The_Last_Stand               210000000          325960610        PG-13   \nxXx                                 70000000          222544282        PG-13   \nZootopia                           150000000          359416611           PG   \n\n                          Running Time:  \\\n2012                                158   \n22_Jump_Street                      111   \n300                                 115   \nAladdin                             128   \nAlice_in_Wonderland                 108   \n...                                 ...   \nX-Men_Days_of_Future_Past           131   \nX-Men_Origins_Wolverine             107   \nX-Men_The_Last_Stand                104   \nxXx                                 124   \nZootopia                            108   \n\n                                                                   Keywords:  \\\n2012                       Disaster, End of the World, Extreme Weather, V...   \n22_Jump_Street             College, Undercover, Football, Narcotics, Budd...   \n300                        Visual Effects, Historical Battles, Voiceover/...   \nAladdin                    Remake, Live Action Cartoon, Wish Granters, Ro...   \nAlice_in_Wonderland        3-D, Arranged Marriage, Talking Animals, Drago...   \n...                                                                      ...   \nX-Men_Days_of_Future_Past  Marvel Comics, Mutants, Time Travel, Robot, Po...   \nX-Men_Origins_Wolverine                                        Marvel Comics   \nX-Men_The_Last_Stand       Marvel Comics, Visual Effects, Mutants, 2000s,...   \nxXx                        Secret Agent, Extreme Sports, Car Chase, Hosta...   \nZootopia                   Beat Cops, Confidence Men, Talking Animals, An...   \n\n                                                     Source:  ... Languages:  \\\n2012                                     Original Screenplay  ...    English   \n22_Jump_Street                                   Based on TV  ...    English   \n300                             Based on Comic/Graphic Novel  ...    English   \nAladdin                                               Remake  ...    English   \nAlice_in_Wonderland        Based on Fiction Book/Short Story  ...    English   \n...                                                      ...  ...        ...   \nX-Men_Days_of_Future_Past       Based on Comic/Graphic Novel  ...    English   \nX-Men_Origins_Wolverine                             Spin-Off  ...    English   \nX-Men_The_Last_Stand            Based on Comic/Graphic Novel  ...    English   \nxXx                                      Original Screenplay  ...    English   \nZootopia                                 Original Screenplay  ...    English   \n\n                                    Franchise:  \\\n2012                                       NaN   \n22_Jump_Street                  21 Jump Street   \n300                                        300   \nAladdin                                    NaN   \nAlice_in_Wonderland        Alice in Wonderland   \n...                                        ...   \nX-Men_Days_of_Future_Past                        \nX-Men_Origins_Wolverine                          \nX-Men_The_Last_Stand                             \nxXx                                        xXx   \nZootopia                                   NaN   \n\n                          Records where the movie is in top 5 count  \\\n2012                                                              2   \n22_Jump_Street                                                    1   \n300                                                               1   \nAladdin                                                           5   \nAlice_in_Wonderland                                               1   \n...                                                             ...   \nX-Men_Days_of_Future_Past                                         3   \nX-Men_Origins_Wolverine                                           1   \nX-Men_The_Last_Stand                                             10   \nxXx                                                               0   \nZootopia                                                          0   \n\n                          opening weekend / total gross percentage  \\\n2012                                                          39.3   \n22_Jump_Street                                                29.8   \n300                                                           33.7   \nAladdin                                                       25.7   \nAlice_in_Wonderland                                           34.7   \n...                                                            ...   \nX-Men_Days_of_Future_Past                                     38.8   \nX-Men_Origins_Wolverine                                       47.3   \nX-Men_The_Last_Stand                                          43.8   \nxXx                                                           31.4   \nZootopia                                                      22.0   \n\n                          Legs (domestic box office/biggest weekend percentage)  \\\n2012                                                                    2.55      \n22_Jump_Street                                                          3.36      \n300                                                                     2.97      \nAladdin                                                                 3.89      \nAlice_in_Wonderland                                                     2.88      \n...                                                                      ...      \nX-Men_Days_of_Future_Past                                               2.58      \nX-Men_Origins_Wolverine                                                 2.11      \nX-Men_The_Last_Stand                                                    2.28      \nxXx                                                                     3.19      \nZootopia                                                                4.55      \n\n                          Domestic Share (domestic box office/worldwide percentage)  \\\n2012                                                                    21.9          \n22_Jump_Street                                                          57.9          \n300                                                                     46.4          \nAladdin                                                                 33.8          \nAlice_in_Wonderland                                                     32.6          \n...                                                                      ...          \nX-Men_Days_of_Future_Past                                               31.3          \nX-Men_Origins_Wolverine                                                 48.0          \nX-Men_The_Last_Stand                                                    51.0          \nxXx                                                                     53.1          \nZootopia                                                                33.3          \n\n                          Opening theaters Max theaters  \\\n2012                                  3404         3444   \n22_Jump_Street                        3306         3426   \n300                                   3103         3280   \nAladdin                               4476         4476   \nAlice_in_Wonderland                   3728         3739   \n...                                    ...          ...   \nX-Men_Days_of_Future_Past             3996         4001   \nX-Men_Origins_Wolverine               4099         4102   \nX-Men_The_Last_Stand                  3690         3714   \nxXx                                   3374         3536   \nZootopia                              3827         3959   \n\n                          Weeks average run per theater  \\\n2012                                                6.4   \n22_Jump_Street                                      6.7   \n300                                                 6.8   \nAladdin                                             8.0   \nAlice_in_Wonderland                                 7.2   \n...                                                 ...   \nX-Men_Days_of_Future_Past                           6.0   \nX-Men_Origins_Wolverine                             5.4   \nX-Men_The_Last_Stand                                5.6   \nxXx                                                 6.9   \nZootopia                                            9.8   \n\n                          worldwide box office / production budget ratio  \n2012                                                                 3.8  \n22_Jump_Street                                                       6.6  \n300                                                                  7.6  \nAladdin                                                              5.8  \nAlice_in_Wonderland                                                  5.1  \n...                                                                  ...  \nX-Men_Days_of_Future_Past                                            3.7  \nX-Men_Origins_Wolverine                                              2.5  \nX-Men_The_Last_Stand                                                 2.2  \nxXx                                                                  3.8  \nZootopia                                                             6.8  \n\n[261 rows x 25 columns]",
      "text/html": "<div>\n<style scoped>\n    .dataframe tbody tr th:only-of-type {\n        vertical-align: middle;\n    }\n\n    .dataframe tbody tr th {\n        vertical-align: top;\n    }\n\n    .dataframe thead th {\n        text-align: right;\n    }\n</style>\n<table border=\"1\" class=\"dataframe\">\n  <thead>\n    <tr style=\"text-align: right;\">\n      <th></th>\n      <th>Domestic Box Office</th>\n      <th>International Box Office</th>\n      <th>Worldwide Box Office</th>\n      <th>Opening Weekend:</th>\n      <th>Production Budget:</th>\n      <th>Infl. Adj. Dom. BO</th>\n      <th>MPAA Rating:</th>\n      <th>Running Time:</th>\n      <th>Keywords:</th>\n      <th>Source:</th>\n      <th>...</th>\n      <th>Languages:</th>\n      <th>Franchise:</th>\n      <th>Records where the movie is in top 5 count</th>\n      <th>opening weekend / total gross percentage</th>\n      <th>Legs (domestic box office/biggest weekend percentage)</th>\n      <th>Domestic Share (domestic box office/worldwide percentage)</th>\n      <th>Opening theaters</th>\n      <th>Max theaters</th>\n      <th>Weeks average run per theater</th>\n      <th>worldwide box office / production budget ratio</th>\n    </tr>\n  </thead>\n  <tbody>\n    <tr>\n      <td>2012</td>\n      <td>166112167</td>\n      <td>591565581</td>\n      <td>757677748</td>\n      <td>65237614</td>\n      <td>200000000</td>\n      <td>201610604</td>\n      <td>PG-13</td>\n      <td>158</td>\n      <td>Disaster, End of the World, Extreme Weather, V...</td>\n      <td>Original Screenplay</td>\n      <td>...</td>\n      <td>English</td>\n      <td>NaN</td>\n      <td>2</td>\n      <td>39.3</td>\n      <td>2.55</td>\n      <td>21.9</td>\n      <td>3404</td>\n      <td>3444</td>\n      <td>6.4</td>\n      <td>3.8</td>\n    </tr>\n    <tr>\n      <td>22_Jump_Street</td>\n      <td>191719337</td>\n      <td>139614539</td>\n      <td>331333876</td>\n      <td>57071445</td>\n      <td>50000000</td>\n      <td>213777619</td>\n      <td>R</td>\n      <td>111</td>\n      <td>College, Undercover, Football, Narcotics, Budd...</td>\n      <td>Based on TV</td>\n      <td>...</td>\n      <td>English</td>\n      <td>21 Jump Street</td>\n      <td>1</td>\n      <td>29.8</td>\n      <td>3.36</td>\n      <td>57.9</td>\n      <td>3306</td>\n      <td>3426</td>\n      <td>6.7</td>\n      <td>6.6</td>\n    </tr>\n    <tr>\n      <td>300</td>\n      <td>210614939</td>\n      <td>243546996</td>\n      <td>454161935</td>\n      <td>70885301</td>\n      <td>60000000</td>\n      <td>278881114</td>\n      <td>R</td>\n      <td>115</td>\n      <td>Visual Effects, Historical Battles, Voiceover/...</td>\n      <td>Based on Comic/Graphic Novel</td>\n      <td>...</td>\n      <td>English</td>\n      <td>300</td>\n      <td>1</td>\n      <td>33.7</td>\n      <td>2.97</td>\n      <td>46.4</td>\n      <td>3103</td>\n      <td>3280</td>\n      <td>6.8</td>\n      <td>7.6</td>\n    </tr>\n    <tr>\n      <td>Aladdin</td>\n      <td>355559216</td>\n      <td>695400000</td>\n      <td>1050959216</td>\n      <td>91500929</td>\n      <td>182000000</td>\n      <td>355559219</td>\n      <td>PG</td>\n      <td>128</td>\n      <td>Remake, Live Action Cartoon, Wish Granters, Ro...</td>\n      <td>Remake</td>\n      <td>...</td>\n      <td>English</td>\n      <td>NaN</td>\n      <td>5</td>\n      <td>25.7</td>\n      <td>3.89</td>\n      <td>33.8</td>\n      <td>4476</td>\n      <td>4476</td>\n      <td>8.0</td>\n      <td>5.8</td>\n    </tr>\n    <tr>\n      <td>Alice_in_Wonderland</td>\n      <td>334191110</td>\n      <td>691300000</td>\n      <td>1025491110</td>\n      <td>116101023</td>\n      <td>200000000</td>\n      <td>385865775</td>\n      <td>PG</td>\n      <td>108</td>\n      <td>3-D, Arranged Marriage, Talking Animals, Drago...</td>\n      <td>Based on Fiction Book/Short Story</td>\n      <td>...</td>\n      <td>English</td>\n      <td>Alice in Wonderland</td>\n      <td>1</td>\n      <td>34.7</td>\n      <td>2.88</td>\n      <td>32.6</td>\n      <td>3728</td>\n      <td>3739</td>\n      <td>7.2</td>\n      <td>5.1</td>\n    </tr>\n    <tr>\n      <td>...</td>\n      <td>...</td>\n      <td>...</td>\n      <td>...</td>\n      <td>...</td>\n      <td>...</td>\n      <td>...</td>\n      <td>...</td>\n      <td>...</td>\n      <td>...</td>\n      <td>...</td>\n      <td>...</td>\n      <td>...</td>\n      <td>...</td>\n      <td>...</td>\n      <td>...</td>\n      <td>...</td>\n      <td>...</td>\n      <td>...</td>\n      <td>...</td>\n      <td>...</td>\n      <td>...</td>\n    </tr>\n    <tr>\n      <td>X-Men_Days_of_Future_Past</td>\n      <td>233921534</td>\n      <td>513941241</td>\n      <td>747862775</td>\n      <td>90823660</td>\n      <td>200000000</td>\n      <td>260835388</td>\n      <td>PG-13</td>\n      <td>131</td>\n      <td>Marvel Comics, Mutants, Time Travel, Robot, Po...</td>\n      <td>Based on Comic/Graphic Novel</td>\n      <td>...</td>\n      <td>English</td>\n      <td></td>\n      <td>3</td>\n      <td>38.8</td>\n      <td>2.58</td>\n      <td>31.3</td>\n      <td>3996</td>\n      <td>4001</td>\n      <td>6.0</td>\n      <td>3.7</td>\n    </tr>\n    <tr>\n      <td>X-Men_Origins_Wolverine</td>\n      <td>179883157</td>\n      <td>194942603</td>\n      <td>374825760</td>\n      <td>85058003</td>\n      <td>150000000</td>\n      <td>218498075</td>\n      <td>PG-13</td>\n      <td>107</td>\n      <td>Marvel Comics</td>\n      <td>Spin-Off</td>\n      <td>...</td>\n      <td>English</td>\n      <td></td>\n      <td>1</td>\n      <td>47.3</td>\n      <td>2.11</td>\n      <td>48.0</td>\n      <td>4099</td>\n      <td>4102</td>\n      <td>5.4</td>\n      <td>2.5</td>\n    </tr>\n    <tr>\n      <td>X-Men_The_Last_Stand</td>\n      <td>234362462</td>\n      <td>224898484</td>\n      <td>459260946</td>\n      <td>102750665</td>\n      <td>210000000</td>\n      <td>325960610</td>\n      <td>PG-13</td>\n      <td>104</td>\n      <td>Marvel Comics, Visual Effects, Mutants, 2000s,...</td>\n      <td>Based on Comic/Graphic Novel</td>\n      <td>...</td>\n      <td>English</td>\n      <td></td>\n      <td>10</td>\n      <td>43.8</td>\n      <td>2.28</td>\n      <td>51.0</td>\n      <td>3690</td>\n      <td>3714</td>\n      <td>5.6</td>\n      <td>2.2</td>\n    </tr>\n    <tr>\n      <td>xXx</td>\n      <td>141930000</td>\n      <td>125270000</td>\n      <td>267200000</td>\n      <td>44506103</td>\n      <td>70000000</td>\n      <td>222544282</td>\n      <td>PG-13</td>\n      <td>124</td>\n      <td>Secret Agent, Extreme Sports, Car Chase, Hosta...</td>\n      <td>Original Screenplay</td>\n      <td>...</td>\n      <td>English</td>\n      <td>xXx</td>\n      <td>0</td>\n      <td>31.4</td>\n      <td>3.19</td>\n      <td>53.1</td>\n      <td>3374</td>\n      <td>3536</td>\n      <td>6.9</td>\n      <td>3.8</td>\n    </tr>\n    <tr>\n      <td>Zootopia</td>\n      <td>341268248</td>\n      <td>682515947</td>\n      <td>1023784195</td>\n      <td>75063401</td>\n      <td>150000000</td>\n      <td>359416611</td>\n      <td>PG</td>\n      <td>108</td>\n      <td>Beat Cops, Confidence Men, Talking Animals, An...</td>\n      <td>Original Screenplay</td>\n      <td>...</td>\n      <td>English</td>\n      <td>NaN</td>\n      <td>0</td>\n      <td>22.0</td>\n      <td>4.55</td>\n      <td>33.3</td>\n      <td>3827</td>\n      <td>3959</td>\n      <td>9.8</td>\n      <td>6.8</td>\n    </tr>\n  </tbody>\n</table>\n<p>261 rows × 25 columns</p>\n</div>"
     },
     "metadata": {},
     "execution_count": 397
    }
   ],
   "source": [
    "features_df_transposed"
   ]
  },
  {
   "cell_type": "code",
   "execution_count": null,
   "metadata": {},
   "outputs": [],
   "source": []
  }
 ],
 "metadata": {
  "language_info": {
   "codemirror_mode": {
    "name": "ipython",
    "version": 3
   },
   "file_extension": ".py",
   "mimetype": "text/x-python",
   "name": "python",
   "nbconvert_exporter": "python",
   "pygments_lexer": "ipython3",
   "version": "3.7.4-final"
  },
  "orig_nbformat": 2,
  "kernelspec": {
   "name": "python3",
   "display_name": "Python 3"
  }
 },
 "nbformat": 4,
 "nbformat_minor": 2
}