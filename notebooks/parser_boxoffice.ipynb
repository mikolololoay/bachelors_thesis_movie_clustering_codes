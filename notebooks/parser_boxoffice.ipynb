{
 "cells": [
  {
   "cell_type": "code",
   "execution_count": 1,
   "metadata": {},
   "outputs": [],
   "source": [
    "import pandas as pd\n",
    "from lxml import html\n",
    "import requests\n",
    "import numpy as np\n",
    "from lxml.etree import XPathEvalError"
   ]
  },
  {
   "cell_type": "code",
   "execution_count": 58,
   "metadata": {},
   "outputs": [],
   "source": [
    "page = requests.get('https://www.the-numbers.com/box-office-records/domestic/all-movies/cumulative/all-time-inflation-adjusted')\n",
    "tree = html.fromstring(page.content)\n",
    "tabela = pd.read_html(page.content)\n",
    "df = tabela[0][tabela[0]['Released']>2000]"
   ]
  },
  {
   "cell_type": "code",
   "execution_count": 2,
   "metadata": {},
   "outputs": [],
   "source": [
    "# druga strona\n",
    "page2 = requests.get('https://www.the-numbers.com/box-office-records/domestic/all-movies/cumulative/all-time-inflation-adjusted/401')\n",
    "tree2 = html.fromstring(page2.content)\n",
    "tabela2 = pd.read_html(page2.content)\n",
    "df2 = tabela2[0][tabela2[0]['Released']>2000]"
   ]
  },
  {
   "cell_type": "code",
   "execution_count": 3,
   "metadata": {},
   "outputs": [
    {
     "output_type": "execute_result",
     "data": {
      "text/plain": "    Rank  Released                                           Movie  \\\n0    401      2018                     Mission: Impossible—Fallout   \n1    403      2011                                          Cars 2   \n2    404      2005                                  Fantastic Four   \n3    408      2009                        X-Men Origins: Wolverine   \n4    409      2002                              The Santa Clause 2   \n5    410      2015                                      Cinderella   \n6    413      2018                            Ant-Man and the Wasp   \n7    414      2012                                  Wreck-It Ralph   \n8    415      2018                               Bohemian Rhapsody   \n9    416      2015                                         Spectre   \n10   419      2006                                  Over the Hedge   \n11   420      2009  Night at the Museum: Battle of the Smithsonian   \n12   421      2018                                  A Star is Born   \n13   424      2008                               Quantum of Solace   \n14   426      2011              Sherlock Holmes: A Game of Shadows   \n15   427      2014                                  22 Jump Street   \n16   428      2018                         Solo: A Star Wars Story   \n17   429      2018                                           Venom   \n18   430      2014                    Teenage Mutant Ninja Turtles   \n19   432      2017                                            Coco   \n20   433      2004                                        I, Robot   \n21   436      2019                                 It: Chapter Two   \n22   438      2001                         Lara Croft: Tomb Raider   \n23   439      2015                Mission: Impossible—Rogue Nation   \n24   440      2003                          The Matrix Revolutions   \n25   442      2013                                      The Croods   \n26   443      2014                                    Interstellar   \n27   445      2003                                     Bad Boys II   \n28   455      2011                                            Thor   \n29   456      2012                                         Lincoln   \n30   461      2003                            Cheaper by the Dozen   \n31   463      2002                                 Minority Report   \n32   465      2006     Talladega Nights: The Ballad of Ricky Bobby   \n33   467      2012                                  Men in Black 3   \n34   468      2003                                Anger Management   \n35   469      2020                               Bad Boys For Life   \n36   471      2010                                  The Karate Kid   \n37   473      2011                  Rise of the Planet of the Apes   \n38   474      2011              Captain America: The First Avenger   \n39   475      2002                                        The Ring   \n40   476      2009                                            2012   \n41   477      2018                       Ralph Breaks The Internet   \n42   480      2003                         Bringing Down the House   \n43   483      2003                                            Hulk   \n44   485      2002                              Sweet Home Alabama   \n45   486      2015                                 Pitch Perfect 2   \n46   487      2009                                    The Proposal   \n47   489      2010                                    Tron: Legacy   \n48   490      2002                                       Mr. Deeds   \n49   492      2014                      How to Train Your Dragon 2   \n50   493      2010                                       True Grit   \n51   495      2007                                      Knocked Up   \n52   498      2008                              Horton Hears a Who   \n53   500      2004                                            Troy   \n\n   Total Box Office  \n0      $220,159,104  \n1      $219,939,150  \n2      $219,856,668  \n3      $218,498,075  \n4      $218,249,983  \n5      $217,377,081  \n6      $216,648,740  \n7      $216,516,450  \n8      $216,303,340  \n9      $216,131,343  \n10     $215,607,044  \n11     $215,292,039  \n12     $215,288,866  \n13     $214,757,090  \n14     $214,435,626  \n15     $213,777,619  \n16     $213,767,512  \n17     $213,511,408  \n18     $213,203,826  \n19     $212,532,784  \n20     $212,421,468  \n21     $211,593,228  \n22     $211,081,889  \n23     $210,775,328  \n24     $210,364,859  \n25     $209,729,928  \n26     $209,470,922  \n27     $209,304,691  \n28     $207,968,346  \n29     $207,619,742  \n30     $207,095,325  \n31     $207,012,925  \n32     $206,141,044  \n33     $204,884,419  \n34     $204,802,675  \n35     $204,417,855  \n36     $203,897,296  \n37     $203,062,456  \n38     $202,941,056  \n39     $202,311,026  \n40     $201,610,604  \n41     $201,091,711  \n42     $200,443,267  \n43     $199,690,644  \n44     $199,405,419  \n45     $199,162,355  \n46     $199,154,357  \n47     $198,430,777  \n48     $198,026,393  \n49     $197,368,004  \n50     $197,229,086  \n51     $196,979,599  \n52     $196,067,297  \n53     $195,547,507  ",
      "text/html": "<div>\n<style scoped>\n    .dataframe tbody tr th:only-of-type {\n        vertical-align: middle;\n    }\n\n    .dataframe tbody tr th {\n        vertical-align: top;\n    }\n\n    .dataframe thead th {\n        text-align: right;\n    }\n</style>\n<table border=\"1\" class=\"dataframe\">\n  <thead>\n    <tr style=\"text-align: right;\">\n      <th></th>\n      <th>Rank</th>\n      <th>Released</th>\n      <th>Movie</th>\n      <th>Total Box Office</th>\n    </tr>\n  </thead>\n  <tbody>\n    <tr>\n      <td>0</td>\n      <td>401</td>\n      <td>2018</td>\n      <td>Mission: Impossible—Fallout</td>\n      <td>$220,159,104</td>\n    </tr>\n    <tr>\n      <td>1</td>\n      <td>403</td>\n      <td>2011</td>\n      <td>Cars 2</td>\n      <td>$219,939,150</td>\n    </tr>\n    <tr>\n      <td>2</td>\n      <td>404</td>\n      <td>2005</td>\n      <td>Fantastic Four</td>\n      <td>$219,856,668</td>\n    </tr>\n    <tr>\n      <td>3</td>\n      <td>408</td>\n      <td>2009</td>\n      <td>X-Men Origins: Wolverine</td>\n      <td>$218,498,075</td>\n    </tr>\n    <tr>\n      <td>4</td>\n      <td>409</td>\n      <td>2002</td>\n      <td>The Santa Clause 2</td>\n      <td>$218,249,983</td>\n    </tr>\n    <tr>\n      <td>5</td>\n      <td>410</td>\n      <td>2015</td>\n      <td>Cinderella</td>\n      <td>$217,377,081</td>\n    </tr>\n    <tr>\n      <td>6</td>\n      <td>413</td>\n      <td>2018</td>\n      <td>Ant-Man and the Wasp</td>\n      <td>$216,648,740</td>\n    </tr>\n    <tr>\n      <td>7</td>\n      <td>414</td>\n      <td>2012</td>\n      <td>Wreck-It Ralph</td>\n      <td>$216,516,450</td>\n    </tr>\n    <tr>\n      <td>8</td>\n      <td>415</td>\n      <td>2018</td>\n      <td>Bohemian Rhapsody</td>\n      <td>$216,303,340</td>\n    </tr>\n    <tr>\n      <td>9</td>\n      <td>416</td>\n      <td>2015</td>\n      <td>Spectre</td>\n      <td>$216,131,343</td>\n    </tr>\n    <tr>\n      <td>10</td>\n      <td>419</td>\n      <td>2006</td>\n      <td>Over the Hedge</td>\n      <td>$215,607,044</td>\n    </tr>\n    <tr>\n      <td>11</td>\n      <td>420</td>\n      <td>2009</td>\n      <td>Night at the Museum: Battle of the Smithsonian</td>\n      <td>$215,292,039</td>\n    </tr>\n    <tr>\n      <td>12</td>\n      <td>421</td>\n      <td>2018</td>\n      <td>A Star is Born</td>\n      <td>$215,288,866</td>\n    </tr>\n    <tr>\n      <td>13</td>\n      <td>424</td>\n      <td>2008</td>\n      <td>Quantum of Solace</td>\n      <td>$214,757,090</td>\n    </tr>\n    <tr>\n      <td>14</td>\n      <td>426</td>\n      <td>2011</td>\n      <td>Sherlock Holmes: A Game of Shadows</td>\n      <td>$214,435,626</td>\n    </tr>\n    <tr>\n      <td>15</td>\n      <td>427</td>\n      <td>2014</td>\n      <td>22 Jump Street</td>\n      <td>$213,777,619</td>\n    </tr>\n    <tr>\n      <td>16</td>\n      <td>428</td>\n      <td>2018</td>\n      <td>Solo: A Star Wars Story</td>\n      <td>$213,767,512</td>\n    </tr>\n    <tr>\n      <td>17</td>\n      <td>429</td>\n      <td>2018</td>\n      <td>Venom</td>\n      <td>$213,511,408</td>\n    </tr>\n    <tr>\n      <td>18</td>\n      <td>430</td>\n      <td>2014</td>\n      <td>Teenage Mutant Ninja Turtles</td>\n      <td>$213,203,826</td>\n    </tr>\n    <tr>\n      <td>19</td>\n      <td>432</td>\n      <td>2017</td>\n      <td>Coco</td>\n      <td>$212,532,784</td>\n    </tr>\n    <tr>\n      <td>20</td>\n      <td>433</td>\n      <td>2004</td>\n      <td>I, Robot</td>\n      <td>$212,421,468</td>\n    </tr>\n    <tr>\n      <td>21</td>\n      <td>436</td>\n      <td>2019</td>\n      <td>It: Chapter Two</td>\n      <td>$211,593,228</td>\n    </tr>\n    <tr>\n      <td>22</td>\n      <td>438</td>\n      <td>2001</td>\n      <td>Lara Croft: Tomb Raider</td>\n      <td>$211,081,889</td>\n    </tr>\n    <tr>\n      <td>23</td>\n      <td>439</td>\n      <td>2015</td>\n      <td>Mission: Impossible—Rogue Nation</td>\n      <td>$210,775,328</td>\n    </tr>\n    <tr>\n      <td>24</td>\n      <td>440</td>\n      <td>2003</td>\n      <td>The Matrix Revolutions</td>\n      <td>$210,364,859</td>\n    </tr>\n    <tr>\n      <td>25</td>\n      <td>442</td>\n      <td>2013</td>\n      <td>The Croods</td>\n      <td>$209,729,928</td>\n    </tr>\n    <tr>\n      <td>26</td>\n      <td>443</td>\n      <td>2014</td>\n      <td>Interstellar</td>\n      <td>$209,470,922</td>\n    </tr>\n    <tr>\n      <td>27</td>\n      <td>445</td>\n      <td>2003</td>\n      <td>Bad Boys II</td>\n      <td>$209,304,691</td>\n    </tr>\n    <tr>\n      <td>28</td>\n      <td>455</td>\n      <td>2011</td>\n      <td>Thor</td>\n      <td>$207,968,346</td>\n    </tr>\n    <tr>\n      <td>29</td>\n      <td>456</td>\n      <td>2012</td>\n      <td>Lincoln</td>\n      <td>$207,619,742</td>\n    </tr>\n    <tr>\n      <td>30</td>\n      <td>461</td>\n      <td>2003</td>\n      <td>Cheaper by the Dozen</td>\n      <td>$207,095,325</td>\n    </tr>\n    <tr>\n      <td>31</td>\n      <td>463</td>\n      <td>2002</td>\n      <td>Minority Report</td>\n      <td>$207,012,925</td>\n    </tr>\n    <tr>\n      <td>32</td>\n      <td>465</td>\n      <td>2006</td>\n      <td>Talladega Nights: The Ballad of Ricky Bobby</td>\n      <td>$206,141,044</td>\n    </tr>\n    <tr>\n      <td>33</td>\n      <td>467</td>\n      <td>2012</td>\n      <td>Men in Black 3</td>\n      <td>$204,884,419</td>\n    </tr>\n    <tr>\n      <td>34</td>\n      <td>468</td>\n      <td>2003</td>\n      <td>Anger Management</td>\n      <td>$204,802,675</td>\n    </tr>\n    <tr>\n      <td>35</td>\n      <td>469</td>\n      <td>2020</td>\n      <td>Bad Boys For Life</td>\n      <td>$204,417,855</td>\n    </tr>\n    <tr>\n      <td>36</td>\n      <td>471</td>\n      <td>2010</td>\n      <td>The Karate Kid</td>\n      <td>$203,897,296</td>\n    </tr>\n    <tr>\n      <td>37</td>\n      <td>473</td>\n      <td>2011</td>\n      <td>Rise of the Planet of the Apes</td>\n      <td>$203,062,456</td>\n    </tr>\n    <tr>\n      <td>38</td>\n      <td>474</td>\n      <td>2011</td>\n      <td>Captain America: The First Avenger</td>\n      <td>$202,941,056</td>\n    </tr>\n    <tr>\n      <td>39</td>\n      <td>475</td>\n      <td>2002</td>\n      <td>The Ring</td>\n      <td>$202,311,026</td>\n    </tr>\n    <tr>\n      <td>40</td>\n      <td>476</td>\n      <td>2009</td>\n      <td>2012</td>\n      <td>$201,610,604</td>\n    </tr>\n    <tr>\n      <td>41</td>\n      <td>477</td>\n      <td>2018</td>\n      <td>Ralph Breaks The Internet</td>\n      <td>$201,091,711</td>\n    </tr>\n    <tr>\n      <td>42</td>\n      <td>480</td>\n      <td>2003</td>\n      <td>Bringing Down the House</td>\n      <td>$200,443,267</td>\n    </tr>\n    <tr>\n      <td>43</td>\n      <td>483</td>\n      <td>2003</td>\n      <td>Hulk</td>\n      <td>$199,690,644</td>\n    </tr>\n    <tr>\n      <td>44</td>\n      <td>485</td>\n      <td>2002</td>\n      <td>Sweet Home Alabama</td>\n      <td>$199,405,419</td>\n    </tr>\n    <tr>\n      <td>45</td>\n      <td>486</td>\n      <td>2015</td>\n      <td>Pitch Perfect 2</td>\n      <td>$199,162,355</td>\n    </tr>\n    <tr>\n      <td>46</td>\n      <td>487</td>\n      <td>2009</td>\n      <td>The Proposal</td>\n      <td>$199,154,357</td>\n    </tr>\n    <tr>\n      <td>47</td>\n      <td>489</td>\n      <td>2010</td>\n      <td>Tron: Legacy</td>\n      <td>$198,430,777</td>\n    </tr>\n    <tr>\n      <td>48</td>\n      <td>490</td>\n      <td>2002</td>\n      <td>Mr. Deeds</td>\n      <td>$198,026,393</td>\n    </tr>\n    <tr>\n      <td>49</td>\n      <td>492</td>\n      <td>2014</td>\n      <td>How to Train Your Dragon 2</td>\n      <td>$197,368,004</td>\n    </tr>\n    <tr>\n      <td>50</td>\n      <td>493</td>\n      <td>2010</td>\n      <td>True Grit</td>\n      <td>$197,229,086</td>\n    </tr>\n    <tr>\n      <td>51</td>\n      <td>495</td>\n      <td>2007</td>\n      <td>Knocked Up</td>\n      <td>$196,979,599</td>\n    </tr>\n    <tr>\n      <td>52</td>\n      <td>498</td>\n      <td>2008</td>\n      <td>Horton Hears a Who</td>\n      <td>$196,067,297</td>\n    </tr>\n    <tr>\n      <td>53</td>\n      <td>500</td>\n      <td>2004</td>\n      <td>Troy</td>\n      <td>$195,547,507</td>\n    </tr>\n  </tbody>\n</table>\n</div>"
     },
     "metadata": {},
     "execution_count": 3
    }
   ],
   "source": [
    "df2.reset_index(drop=True)"
   ]
  },
  {
   "cell_type": "code",
   "execution_count": 4,
   "metadata": {},
   "outputs": [],
   "source": [
    "df2 = df2.reset_index(drop=True)"
   ]
  },
  {
   "cell_type": "code",
   "execution_count": 5,
   "metadata": {},
   "outputs": [],
   "source": [
    "page_string2 = page2.content.decode('utf-8').replace('&hellip;', '…')"
   ]
  },
  {
   "cell_type": "code",
   "execution_count": 8,
   "metadata": {},
   "outputs": [],
   "source": [
    "list_of_movie_urls = []\n",
    "\n",
    "for title in df2['Movie']:\n",
    "    if title not in page_string2:\n",
    "        print(title)\n",
    "        list_of_movie_urls.append('movie title not found')\n",
    "    else:\n",
    "            try:\n",
    "                if title == '2012':\n",
    "                    movie_url = 'https://www.the-numbers.com/movie/2012#tab=summary'\n",
    "                else:\n",
    "                    movie_url = \"https://www.the-numbers.com\" + tree2.xpath(f\"//table//a[text()='{title}']/@href\")[0].replace('#tab=box-office', '#tab=summary')\n",
    "            except XPathEvalError:\n",
    "                if title == \"Ocean's Eleven\":\n",
    "                    movie_url = 'https://www.the-numbers.com/movie/Oceans-Eleven#tab=box-office'\n",
    "                elif title == \"Madagascar 3: Europe's Most Wanted\":\n",
    "                    movie_url = 'https://www.the-numbers.com/movie/Madagascar-3#tab=box-office'\n",
    "                elif title == \"Doctor Seuss' The Lorax\":\n",
    "                    movie_url = 'https://www.the-numbers.com/movie/Lorax-The#tab=box-office'\n",
    "                else:\n",
    "                    print(title + ' XPathEvalError')\n",
    "                    exit()\n",
    "    list_of_movie_urls.append(movie_url)\n",
    "\n",
    "df2['url'] = list_of_movie_urls"
   ]
  },
  {
   "cell_type": "code",
   "execution_count": 9,
   "metadata": {},
   "outputs": [
    {
     "output_type": "execute_result",
     "data": {
      "text/plain": "    Rank  Released                                           Movie  \\\n0    401      2018                     Mission: Impossible—Fallout   \n1    403      2011                                          Cars 2   \n2    404      2005                                  Fantastic Four   \n3    408      2009                        X-Men Origins: Wolverine   \n4    409      2002                              The Santa Clause 2   \n5    410      2015                                      Cinderella   \n6    413      2018                            Ant-Man and the Wasp   \n7    414      2012                                  Wreck-It Ralph   \n8    415      2018                               Bohemian Rhapsody   \n9    416      2015                                         Spectre   \n10   419      2006                                  Over the Hedge   \n11   420      2009  Night at the Museum: Battle of the Smithsonian   \n12   421      2018                                  A Star is Born   \n13   424      2008                               Quantum of Solace   \n14   426      2011              Sherlock Holmes: A Game of Shadows   \n15   427      2014                                  22 Jump Street   \n16   428      2018                         Solo: A Star Wars Story   \n17   429      2018                                           Venom   \n18   430      2014                    Teenage Mutant Ninja Turtles   \n19   432      2017                                            Coco   \n20   433      2004                                        I, Robot   \n21   436      2019                                 It: Chapter Two   \n22   438      2001                         Lara Croft: Tomb Raider   \n23   439      2015                Mission: Impossible—Rogue Nation   \n24   440      2003                          The Matrix Revolutions   \n25   442      2013                                      The Croods   \n26   443      2014                                    Interstellar   \n27   445      2003                                     Bad Boys II   \n28   455      2011                                            Thor   \n29   456      2012                                         Lincoln   \n30   461      2003                            Cheaper by the Dozen   \n31   463      2002                                 Minority Report   \n32   465      2006     Talladega Nights: The Ballad of Ricky Bobby   \n33   467      2012                                  Men in Black 3   \n34   468      2003                                Anger Management   \n35   469      2020                               Bad Boys For Life   \n36   471      2010                                  The Karate Kid   \n37   473      2011                  Rise of the Planet of the Apes   \n38   474      2011              Captain America: The First Avenger   \n39   475      2002                                        The Ring   \n40   476      2009                                            2012   \n41   477      2018                       Ralph Breaks The Internet   \n42   480      2003                         Bringing Down the House   \n43   483      2003                                            Hulk   \n44   485      2002                              Sweet Home Alabama   \n45   486      2015                                 Pitch Perfect 2   \n46   487      2009                                    The Proposal   \n47   489      2010                                    Tron: Legacy   \n48   490      2002                                       Mr. Deeds   \n49   492      2014                      How to Train Your Dragon 2   \n50   493      2010                                       True Grit   \n51   495      2007                                      Knocked Up   \n52   498      2008                              Horton Hears a Who   \n53   500      2004                                            Troy   \n\n   Total Box Office                                                url  \n0      $220,159,104  https://www.the-numbers.com/movie/Mission-Impo...  \n1      $219,939,150  https://www.the-numbers.com/movie/Cars-2#tab=s...  \n2      $219,856,668  https://www.the-numbers.com/movie/Fantastic-Fo...  \n3      $218,498,075  https://www.the-numbers.com/movie/X-Men-Origin...  \n4      $218,249,983  https://www.the-numbers.com/movie/Santa-Clause...  \n5      $217,377,081  https://www.the-numbers.com/movie/Cinderella-(...  \n6      $216,648,740  https://www.the-numbers.com/movie/Ant-Man-and-...  \n7      $216,516,450  https://www.the-numbers.com/movie/Wreck-It-Ral...  \n8      $216,303,340  https://www.the-numbers.com/movie/Bohemian-Rha...  \n9      $216,131,343  https://www.the-numbers.com/movie/Spectre#tab=...  \n10     $215,607,044  https://www.the-numbers.com/movie/Over-the-Hed...  \n11     $215,292,039  https://www.the-numbers.com/movie/Night-at-the...  \n12     $215,288,866  https://www.the-numbers.com/movie/Star-is-Born...  \n13     $214,757,090  https://www.the-numbers.com/movie/Quantum-of-S...  \n14     $214,435,626  https://www.the-numbers.com/movie/Sherlock-Hol...  \n15     $213,777,619  https://www.the-numbers.com/movie/22-Jump-Stre...  \n16     $213,767,512  https://www.the-numbers.com/movie/Solo-A-Star-...  \n17     $213,511,408  https://www.the-numbers.com/movie/Venom-(2018)...  \n18     $213,203,826  https://www.the-numbers.com/movie/Teenage-Muta...  \n19     $212,532,784  https://www.the-numbers.com/movie/Coco-(2017)#...  \n20     $212,421,468  https://www.the-numbers.com/movie/I-Robot#tab=...  \n21     $211,593,228  https://www.the-numbers.com/movie/It-Chapter-T...  \n22     $211,081,889  https://www.the-numbers.com/movie/Lara-Croft-T...  \n23     $210,775,328  https://www.the-numbers.com/movie/Mission-Impo...  \n24     $210,364,859  https://www.the-numbers.com/movie/Matrix-Revol...  \n25     $209,729,928  https://www.the-numbers.com/movie/Croods-The#t...  \n26     $209,470,922  https://www.the-numbers.com/movie/Interstellar...  \n27     $209,304,691  https://www.the-numbers.com/movie/Bad-Boys-II#...  \n28     $207,968,346  https://www.the-numbers.com/movie/Thor#tab=sum...  \n29     $207,619,742  https://www.the-numbers.com/movie/Lincoln#tab=...  \n30     $207,095,325  https://www.the-numbers.com/movie/Cheaper-by-t...  \n31     $207,012,925  https://www.the-numbers.com/movie/Minority-Rep...  \n32     $206,141,044  https://www.the-numbers.com/movie/Talladega-Ni...  \n33     $204,884,419  https://www.the-numbers.com/movie/Men-in-Black...  \n34     $204,802,675  https://www.the-numbers.com/movie/Anger-Manage...  \n35     $204,417,855  https://www.the-numbers.com/movie/Bad-Boys-For...  \n36     $203,897,296  https://www.the-numbers.com/movie/Karate-Kid-T...  \n37     $203,062,456  https://www.the-numbers.com/movie/Rise-of-the-...  \n38     $202,941,056  https://www.the-numbers.com/movie/Captain-Amer...  \n39     $202,311,026  https://www.the-numbers.com/movie/Ring-The#tab...  \n40     $201,610,604  https://www.the-numbers.com/movie/2012#tab=sum...  \n41     $201,091,711  https://www.the-numbers.com/movie/Ralph-Breaks...  \n42     $200,443,267  https://www.the-numbers.com/movie/Bringing-Dow...  \n43     $199,690,644  https://www.the-numbers.com/movie/Hulk#tab=sum...  \n44     $199,405,419  https://www.the-numbers.com/movie/Sweet-Home-A...  \n45     $199,162,355  https://www.the-numbers.com/movie/Pitch-Perfec...  \n46     $199,154,357  https://www.the-numbers.com/movie/Proposal-The...  \n47     $198,430,777  https://www.the-numbers.com/movie/Tron-Legacy#...  \n48     $198,026,393  https://www.the-numbers.com/movie/Mr-Deeds#tab...  \n49     $197,368,004  https://www.the-numbers.com/movie/How-to-Train...  \n50     $197,229,086  https://www.the-numbers.com/movie/True-Grit-(2...  \n51     $196,979,599  https://www.the-numbers.com/movie/Knocked-Up#t...  \n52     $196,067,297  https://www.the-numbers.com/movie/Horton-Hears...  \n53     $195,547,507  https://www.the-numbers.com/movie/Troy#tab=sum...  ",
      "text/html": "<div>\n<style scoped>\n    .dataframe tbody tr th:only-of-type {\n        vertical-align: middle;\n    }\n\n    .dataframe tbody tr th {\n        vertical-align: top;\n    }\n\n    .dataframe thead th {\n        text-align: right;\n    }\n</style>\n<table border=\"1\" class=\"dataframe\">\n  <thead>\n    <tr style=\"text-align: right;\">\n      <th></th>\n      <th>Rank</th>\n      <th>Released</th>\n      <th>Movie</th>\n      <th>Total Box Office</th>\n      <th>url</th>\n    </tr>\n  </thead>\n  <tbody>\n    <tr>\n      <td>0</td>\n      <td>401</td>\n      <td>2018</td>\n      <td>Mission: Impossible—Fallout</td>\n      <td>$220,159,104</td>\n      <td>https://www.the-numbers.com/movie/Mission-Impo...</td>\n    </tr>\n    <tr>\n      <td>1</td>\n      <td>403</td>\n      <td>2011</td>\n      <td>Cars 2</td>\n      <td>$219,939,150</td>\n      <td>https://www.the-numbers.com/movie/Cars-2#tab=s...</td>\n    </tr>\n    <tr>\n      <td>2</td>\n      <td>404</td>\n      <td>2005</td>\n      <td>Fantastic Four</td>\n      <td>$219,856,668</td>\n      <td>https://www.the-numbers.com/movie/Fantastic-Fo...</td>\n    </tr>\n    <tr>\n      <td>3</td>\n      <td>408</td>\n      <td>2009</td>\n      <td>X-Men Origins: Wolverine</td>\n      <td>$218,498,075</td>\n      <td>https://www.the-numbers.com/movie/X-Men-Origin...</td>\n    </tr>\n    <tr>\n      <td>4</td>\n      <td>409</td>\n      <td>2002</td>\n      <td>The Santa Clause 2</td>\n      <td>$218,249,983</td>\n      <td>https://www.the-numbers.com/movie/Santa-Clause...</td>\n    </tr>\n    <tr>\n      <td>5</td>\n      <td>410</td>\n      <td>2015</td>\n      <td>Cinderella</td>\n      <td>$217,377,081</td>\n      <td>https://www.the-numbers.com/movie/Cinderella-(...</td>\n    </tr>\n    <tr>\n      <td>6</td>\n      <td>413</td>\n      <td>2018</td>\n      <td>Ant-Man and the Wasp</td>\n      <td>$216,648,740</td>\n      <td>https://www.the-numbers.com/movie/Ant-Man-and-...</td>\n    </tr>\n    <tr>\n      <td>7</td>\n      <td>414</td>\n      <td>2012</td>\n      <td>Wreck-It Ralph</td>\n      <td>$216,516,450</td>\n      <td>https://www.the-numbers.com/movie/Wreck-It-Ral...</td>\n    </tr>\n    <tr>\n      <td>8</td>\n      <td>415</td>\n      <td>2018</td>\n      <td>Bohemian Rhapsody</td>\n      <td>$216,303,340</td>\n      <td>https://www.the-numbers.com/movie/Bohemian-Rha...</td>\n    </tr>\n    <tr>\n      <td>9</td>\n      <td>416</td>\n      <td>2015</td>\n      <td>Spectre</td>\n      <td>$216,131,343</td>\n      <td>https://www.the-numbers.com/movie/Spectre#tab=...</td>\n    </tr>\n    <tr>\n      <td>10</td>\n      <td>419</td>\n      <td>2006</td>\n      <td>Over the Hedge</td>\n      <td>$215,607,044</td>\n      <td>https://www.the-numbers.com/movie/Over-the-Hed...</td>\n    </tr>\n    <tr>\n      <td>11</td>\n      <td>420</td>\n      <td>2009</td>\n      <td>Night at the Museum: Battle of the Smithsonian</td>\n      <td>$215,292,039</td>\n      <td>https://www.the-numbers.com/movie/Night-at-the...</td>\n    </tr>\n    <tr>\n      <td>12</td>\n      <td>421</td>\n      <td>2018</td>\n      <td>A Star is Born</td>\n      <td>$215,288,866</td>\n      <td>https://www.the-numbers.com/movie/Star-is-Born...</td>\n    </tr>\n    <tr>\n      <td>13</td>\n      <td>424</td>\n      <td>2008</td>\n      <td>Quantum of Solace</td>\n      <td>$214,757,090</td>\n      <td>https://www.the-numbers.com/movie/Quantum-of-S...</td>\n    </tr>\n    <tr>\n      <td>14</td>\n      <td>426</td>\n      <td>2011</td>\n      <td>Sherlock Holmes: A Game of Shadows</td>\n      <td>$214,435,626</td>\n      <td>https://www.the-numbers.com/movie/Sherlock-Hol...</td>\n    </tr>\n    <tr>\n      <td>15</td>\n      <td>427</td>\n      <td>2014</td>\n      <td>22 Jump Street</td>\n      <td>$213,777,619</td>\n      <td>https://www.the-numbers.com/movie/22-Jump-Stre...</td>\n    </tr>\n    <tr>\n      <td>16</td>\n      <td>428</td>\n      <td>2018</td>\n      <td>Solo: A Star Wars Story</td>\n      <td>$213,767,512</td>\n      <td>https://www.the-numbers.com/movie/Solo-A-Star-...</td>\n    </tr>\n    <tr>\n      <td>17</td>\n      <td>429</td>\n      <td>2018</td>\n      <td>Venom</td>\n      <td>$213,511,408</td>\n      <td>https://www.the-numbers.com/movie/Venom-(2018)...</td>\n    </tr>\n    <tr>\n      <td>18</td>\n      <td>430</td>\n      <td>2014</td>\n      <td>Teenage Mutant Ninja Turtles</td>\n      <td>$213,203,826</td>\n      <td>https://www.the-numbers.com/movie/Teenage-Muta...</td>\n    </tr>\n    <tr>\n      <td>19</td>\n      <td>432</td>\n      <td>2017</td>\n      <td>Coco</td>\n      <td>$212,532,784</td>\n      <td>https://www.the-numbers.com/movie/Coco-(2017)#...</td>\n    </tr>\n    <tr>\n      <td>20</td>\n      <td>433</td>\n      <td>2004</td>\n      <td>I, Robot</td>\n      <td>$212,421,468</td>\n      <td>https://www.the-numbers.com/movie/I-Robot#tab=...</td>\n    </tr>\n    <tr>\n      <td>21</td>\n      <td>436</td>\n      <td>2019</td>\n      <td>It: Chapter Two</td>\n      <td>$211,593,228</td>\n      <td>https://www.the-numbers.com/movie/It-Chapter-T...</td>\n    </tr>\n    <tr>\n      <td>22</td>\n      <td>438</td>\n      <td>2001</td>\n      <td>Lara Croft: Tomb Raider</td>\n      <td>$211,081,889</td>\n      <td>https://www.the-numbers.com/movie/Lara-Croft-T...</td>\n    </tr>\n    <tr>\n      <td>23</td>\n      <td>439</td>\n      <td>2015</td>\n      <td>Mission: Impossible—Rogue Nation</td>\n      <td>$210,775,328</td>\n      <td>https://www.the-numbers.com/movie/Mission-Impo...</td>\n    </tr>\n    <tr>\n      <td>24</td>\n      <td>440</td>\n      <td>2003</td>\n      <td>The Matrix Revolutions</td>\n      <td>$210,364,859</td>\n      <td>https://www.the-numbers.com/movie/Matrix-Revol...</td>\n    </tr>\n    <tr>\n      <td>25</td>\n      <td>442</td>\n      <td>2013</td>\n      <td>The Croods</td>\n      <td>$209,729,928</td>\n      <td>https://www.the-numbers.com/movie/Croods-The#t...</td>\n    </tr>\n    <tr>\n      <td>26</td>\n      <td>443</td>\n      <td>2014</td>\n      <td>Interstellar</td>\n      <td>$209,470,922</td>\n      <td>https://www.the-numbers.com/movie/Interstellar...</td>\n    </tr>\n    <tr>\n      <td>27</td>\n      <td>445</td>\n      <td>2003</td>\n      <td>Bad Boys II</td>\n      <td>$209,304,691</td>\n      <td>https://www.the-numbers.com/movie/Bad-Boys-II#...</td>\n    </tr>\n    <tr>\n      <td>28</td>\n      <td>455</td>\n      <td>2011</td>\n      <td>Thor</td>\n      <td>$207,968,346</td>\n      <td>https://www.the-numbers.com/movie/Thor#tab=sum...</td>\n    </tr>\n    <tr>\n      <td>29</td>\n      <td>456</td>\n      <td>2012</td>\n      <td>Lincoln</td>\n      <td>$207,619,742</td>\n      <td>https://www.the-numbers.com/movie/Lincoln#tab=...</td>\n    </tr>\n    <tr>\n      <td>30</td>\n      <td>461</td>\n      <td>2003</td>\n      <td>Cheaper by the Dozen</td>\n      <td>$207,095,325</td>\n      <td>https://www.the-numbers.com/movie/Cheaper-by-t...</td>\n    </tr>\n    <tr>\n      <td>31</td>\n      <td>463</td>\n      <td>2002</td>\n      <td>Minority Report</td>\n      <td>$207,012,925</td>\n      <td>https://www.the-numbers.com/movie/Minority-Rep...</td>\n    </tr>\n    <tr>\n      <td>32</td>\n      <td>465</td>\n      <td>2006</td>\n      <td>Talladega Nights: The Ballad of Ricky Bobby</td>\n      <td>$206,141,044</td>\n      <td>https://www.the-numbers.com/movie/Talladega-Ni...</td>\n    </tr>\n    <tr>\n      <td>33</td>\n      <td>467</td>\n      <td>2012</td>\n      <td>Men in Black 3</td>\n      <td>$204,884,419</td>\n      <td>https://www.the-numbers.com/movie/Men-in-Black...</td>\n    </tr>\n    <tr>\n      <td>34</td>\n      <td>468</td>\n      <td>2003</td>\n      <td>Anger Management</td>\n      <td>$204,802,675</td>\n      <td>https://www.the-numbers.com/movie/Anger-Manage...</td>\n    </tr>\n    <tr>\n      <td>35</td>\n      <td>469</td>\n      <td>2020</td>\n      <td>Bad Boys For Life</td>\n      <td>$204,417,855</td>\n      <td>https://www.the-numbers.com/movie/Bad-Boys-For...</td>\n    </tr>\n    <tr>\n      <td>36</td>\n      <td>471</td>\n      <td>2010</td>\n      <td>The Karate Kid</td>\n      <td>$203,897,296</td>\n      <td>https://www.the-numbers.com/movie/Karate-Kid-T...</td>\n    </tr>\n    <tr>\n      <td>37</td>\n      <td>473</td>\n      <td>2011</td>\n      <td>Rise of the Planet of the Apes</td>\n      <td>$203,062,456</td>\n      <td>https://www.the-numbers.com/movie/Rise-of-the-...</td>\n    </tr>\n    <tr>\n      <td>38</td>\n      <td>474</td>\n      <td>2011</td>\n      <td>Captain America: The First Avenger</td>\n      <td>$202,941,056</td>\n      <td>https://www.the-numbers.com/movie/Captain-Amer...</td>\n    </tr>\n    <tr>\n      <td>39</td>\n      <td>475</td>\n      <td>2002</td>\n      <td>The Ring</td>\n      <td>$202,311,026</td>\n      <td>https://www.the-numbers.com/movie/Ring-The#tab...</td>\n    </tr>\n    <tr>\n      <td>40</td>\n      <td>476</td>\n      <td>2009</td>\n      <td>2012</td>\n      <td>$201,610,604</td>\n      <td>https://www.the-numbers.com/movie/2012#tab=sum...</td>\n    </tr>\n    <tr>\n      <td>41</td>\n      <td>477</td>\n      <td>2018</td>\n      <td>Ralph Breaks The Internet</td>\n      <td>$201,091,711</td>\n      <td>https://www.the-numbers.com/movie/Ralph-Breaks...</td>\n    </tr>\n    <tr>\n      <td>42</td>\n      <td>480</td>\n      <td>2003</td>\n      <td>Bringing Down the House</td>\n      <td>$200,443,267</td>\n      <td>https://www.the-numbers.com/movie/Bringing-Dow...</td>\n    </tr>\n    <tr>\n      <td>43</td>\n      <td>483</td>\n      <td>2003</td>\n      <td>Hulk</td>\n      <td>$199,690,644</td>\n      <td>https://www.the-numbers.com/movie/Hulk#tab=sum...</td>\n    </tr>\n    <tr>\n      <td>44</td>\n      <td>485</td>\n      <td>2002</td>\n      <td>Sweet Home Alabama</td>\n      <td>$199,405,419</td>\n      <td>https://www.the-numbers.com/movie/Sweet-Home-A...</td>\n    </tr>\n    <tr>\n      <td>45</td>\n      <td>486</td>\n      <td>2015</td>\n      <td>Pitch Perfect 2</td>\n      <td>$199,162,355</td>\n      <td>https://www.the-numbers.com/movie/Pitch-Perfec...</td>\n    </tr>\n    <tr>\n      <td>46</td>\n      <td>487</td>\n      <td>2009</td>\n      <td>The Proposal</td>\n      <td>$199,154,357</td>\n      <td>https://www.the-numbers.com/movie/Proposal-The...</td>\n    </tr>\n    <tr>\n      <td>47</td>\n      <td>489</td>\n      <td>2010</td>\n      <td>Tron: Legacy</td>\n      <td>$198,430,777</td>\n      <td>https://www.the-numbers.com/movie/Tron-Legacy#...</td>\n    </tr>\n    <tr>\n      <td>48</td>\n      <td>490</td>\n      <td>2002</td>\n      <td>Mr. Deeds</td>\n      <td>$198,026,393</td>\n      <td>https://www.the-numbers.com/movie/Mr-Deeds#tab...</td>\n    </tr>\n    <tr>\n      <td>49</td>\n      <td>492</td>\n      <td>2014</td>\n      <td>How to Train Your Dragon 2</td>\n      <td>$197,368,004</td>\n      <td>https://www.the-numbers.com/movie/How-to-Train...</td>\n    </tr>\n    <tr>\n      <td>50</td>\n      <td>493</td>\n      <td>2010</td>\n      <td>True Grit</td>\n      <td>$197,229,086</td>\n      <td>https://www.the-numbers.com/movie/True-Grit-(2...</td>\n    </tr>\n    <tr>\n      <td>51</td>\n      <td>495</td>\n      <td>2007</td>\n      <td>Knocked Up</td>\n      <td>$196,979,599</td>\n      <td>https://www.the-numbers.com/movie/Knocked-Up#t...</td>\n    </tr>\n    <tr>\n      <td>52</td>\n      <td>498</td>\n      <td>2008</td>\n      <td>Horton Hears a Who</td>\n      <td>$196,067,297</td>\n      <td>https://www.the-numbers.com/movie/Horton-Hears...</td>\n    </tr>\n    <tr>\n      <td>53</td>\n      <td>500</td>\n      <td>2004</td>\n      <td>Troy</td>\n      <td>$195,547,507</td>\n      <td>https://www.the-numbers.com/movie/Troy#tab=sum...</td>\n    </tr>\n  </tbody>\n</table>\n</div>"
     },
     "metadata": {},
     "execution_count": 9
    }
   ],
   "source": [
    "df2"
   ]
  },
  {
   "cell_type": "code",
   "execution_count": 10,
   "metadata": {},
   "outputs": [],
   "source": [
    "df_global = pd.DataFrame()"
   ]
  },
  {
   "cell_type": "code",
   "execution_count": 12,
   "metadata": {},
   "outputs": [],
   "source": [
    "df_global = df_global.append(df2)"
   ]
  },
  {
   "cell_type": "code",
   "execution_count": 13,
   "metadata": {},
   "outputs": [
    {
     "output_type": "execute_result",
     "data": {
      "text/plain": "    Rank  Released                                           Movie  \\\n0    401      2018                     Mission: Impossible—Fallout   \n1    403      2011                                          Cars 2   \n2    404      2005                                  Fantastic Four   \n3    408      2009                        X-Men Origins: Wolverine   \n4    409      2002                              The Santa Clause 2   \n5    410      2015                                      Cinderella   \n6    413      2018                            Ant-Man and the Wasp   \n7    414      2012                                  Wreck-It Ralph   \n8    415      2018                               Bohemian Rhapsody   \n9    416      2015                                         Spectre   \n10   419      2006                                  Over the Hedge   \n11   420      2009  Night at the Museum: Battle of the Smithsonian   \n12   421      2018                                  A Star is Born   \n13   424      2008                               Quantum of Solace   \n14   426      2011              Sherlock Holmes: A Game of Shadows   \n15   427      2014                                  22 Jump Street   \n16   428      2018                         Solo: A Star Wars Story   \n17   429      2018                                           Venom   \n18   430      2014                    Teenage Mutant Ninja Turtles   \n19   432      2017                                            Coco   \n20   433      2004                                        I, Robot   \n21   436      2019                                 It: Chapter Two   \n22   438      2001                         Lara Croft: Tomb Raider   \n23   439      2015                Mission: Impossible—Rogue Nation   \n24   440      2003                          The Matrix Revolutions   \n25   442      2013                                      The Croods   \n26   443      2014                                    Interstellar   \n27   445      2003                                     Bad Boys II   \n28   455      2011                                            Thor   \n29   456      2012                                         Lincoln   \n30   461      2003                            Cheaper by the Dozen   \n31   463      2002                                 Minority Report   \n32   465      2006     Talladega Nights: The Ballad of Ricky Bobby   \n33   467      2012                                  Men in Black 3   \n34   468      2003                                Anger Management   \n35   469      2020                               Bad Boys For Life   \n36   471      2010                                  The Karate Kid   \n37   473      2011                  Rise of the Planet of the Apes   \n38   474      2011              Captain America: The First Avenger   \n39   475      2002                                        The Ring   \n40   476      2009                                            2012   \n41   477      2018                       Ralph Breaks The Internet   \n42   480      2003                         Bringing Down the House   \n43   483      2003                                            Hulk   \n44   485      2002                              Sweet Home Alabama   \n45   486      2015                                 Pitch Perfect 2   \n46   487      2009                                    The Proposal   \n47   489      2010                                    Tron: Legacy   \n48   490      2002                                       Mr. Deeds   \n49   492      2014                      How to Train Your Dragon 2   \n50   493      2010                                       True Grit   \n51   495      2007                                      Knocked Up   \n52   498      2008                              Horton Hears a Who   \n53   500      2004                                            Troy   \n\n   Total Box Office                                                url  \n0      $220,159,104  https://www.the-numbers.com/movie/Mission-Impo...  \n1      $219,939,150  https://www.the-numbers.com/movie/Cars-2#tab=s...  \n2      $219,856,668  https://www.the-numbers.com/movie/Fantastic-Fo...  \n3      $218,498,075  https://www.the-numbers.com/movie/X-Men-Origin...  \n4      $218,249,983  https://www.the-numbers.com/movie/Santa-Clause...  \n5      $217,377,081  https://www.the-numbers.com/movie/Cinderella-(...  \n6      $216,648,740  https://www.the-numbers.com/movie/Ant-Man-and-...  \n7      $216,516,450  https://www.the-numbers.com/movie/Wreck-It-Ral...  \n8      $216,303,340  https://www.the-numbers.com/movie/Bohemian-Rha...  \n9      $216,131,343  https://www.the-numbers.com/movie/Spectre#tab=...  \n10     $215,607,044  https://www.the-numbers.com/movie/Over-the-Hed...  \n11     $215,292,039  https://www.the-numbers.com/movie/Night-at-the...  \n12     $215,288,866  https://www.the-numbers.com/movie/Star-is-Born...  \n13     $214,757,090  https://www.the-numbers.com/movie/Quantum-of-S...  \n14     $214,435,626  https://www.the-numbers.com/movie/Sherlock-Hol...  \n15     $213,777,619  https://www.the-numbers.com/movie/22-Jump-Stre...  \n16     $213,767,512  https://www.the-numbers.com/movie/Solo-A-Star-...  \n17     $213,511,408  https://www.the-numbers.com/movie/Venom-(2018)...  \n18     $213,203,826  https://www.the-numbers.com/movie/Teenage-Muta...  \n19     $212,532,784  https://www.the-numbers.com/movie/Coco-(2017)#...  \n20     $212,421,468  https://www.the-numbers.com/movie/I-Robot#tab=...  \n21     $211,593,228  https://www.the-numbers.com/movie/It-Chapter-T...  \n22     $211,081,889  https://www.the-numbers.com/movie/Lara-Croft-T...  \n23     $210,775,328  https://www.the-numbers.com/movie/Mission-Impo...  \n24     $210,364,859  https://www.the-numbers.com/movie/Matrix-Revol...  \n25     $209,729,928  https://www.the-numbers.com/movie/Croods-The#t...  \n26     $209,470,922  https://www.the-numbers.com/movie/Interstellar...  \n27     $209,304,691  https://www.the-numbers.com/movie/Bad-Boys-II#...  \n28     $207,968,346  https://www.the-numbers.com/movie/Thor#tab=sum...  \n29     $207,619,742  https://www.the-numbers.com/movie/Lincoln#tab=...  \n30     $207,095,325  https://www.the-numbers.com/movie/Cheaper-by-t...  \n31     $207,012,925  https://www.the-numbers.com/movie/Minority-Rep...  \n32     $206,141,044  https://www.the-numbers.com/movie/Talladega-Ni...  \n33     $204,884,419  https://www.the-numbers.com/movie/Men-in-Black...  \n34     $204,802,675  https://www.the-numbers.com/movie/Anger-Manage...  \n35     $204,417,855  https://www.the-numbers.com/movie/Bad-Boys-For...  \n36     $203,897,296  https://www.the-numbers.com/movie/Karate-Kid-T...  \n37     $203,062,456  https://www.the-numbers.com/movie/Rise-of-the-...  \n38     $202,941,056  https://www.the-numbers.com/movie/Captain-Amer...  \n39     $202,311,026  https://www.the-numbers.com/movie/Ring-The#tab...  \n40     $201,610,604  https://www.the-numbers.com/movie/2012#tab=sum...  \n41     $201,091,711  https://www.the-numbers.com/movie/Ralph-Breaks...  \n42     $200,443,267  https://www.the-numbers.com/movie/Bringing-Dow...  \n43     $199,690,644  https://www.the-numbers.com/movie/Hulk#tab=sum...  \n44     $199,405,419  https://www.the-numbers.com/movie/Sweet-Home-A...  \n45     $199,162,355  https://www.the-numbers.com/movie/Pitch-Perfec...  \n46     $199,154,357  https://www.the-numbers.com/movie/Proposal-The...  \n47     $198,430,777  https://www.the-numbers.com/movie/Tron-Legacy#...  \n48     $198,026,393  https://www.the-numbers.com/movie/Mr-Deeds#tab...  \n49     $197,368,004  https://www.the-numbers.com/movie/How-to-Train...  \n50     $197,229,086  https://www.the-numbers.com/movie/True-Grit-(2...  \n51     $196,979,599  https://www.the-numbers.com/movie/Knocked-Up#t...  \n52     $196,067,297  https://www.the-numbers.com/movie/Horton-Hears...  \n53     $195,547,507  https://www.the-numbers.com/movie/Troy#tab=sum...  ",
      "text/html": "<div>\n<style scoped>\n    .dataframe tbody tr th:only-of-type {\n        vertical-align: middle;\n    }\n\n    .dataframe tbody tr th {\n        vertical-align: top;\n    }\n\n    .dataframe thead th {\n        text-align: right;\n    }\n</style>\n<table border=\"1\" class=\"dataframe\">\n  <thead>\n    <tr style=\"text-align: right;\">\n      <th></th>\n      <th>Rank</th>\n      <th>Released</th>\n      <th>Movie</th>\n      <th>Total Box Office</th>\n      <th>url</th>\n    </tr>\n  </thead>\n  <tbody>\n    <tr>\n      <td>0</td>\n      <td>401</td>\n      <td>2018</td>\n      <td>Mission: Impossible—Fallout</td>\n      <td>$220,159,104</td>\n      <td>https://www.the-numbers.com/movie/Mission-Impo...</td>\n    </tr>\n    <tr>\n      <td>1</td>\n      <td>403</td>\n      <td>2011</td>\n      <td>Cars 2</td>\n      <td>$219,939,150</td>\n      <td>https://www.the-numbers.com/movie/Cars-2#tab=s...</td>\n    </tr>\n    <tr>\n      <td>2</td>\n      <td>404</td>\n      <td>2005</td>\n      <td>Fantastic Four</td>\n      <td>$219,856,668</td>\n      <td>https://www.the-numbers.com/movie/Fantastic-Fo...</td>\n    </tr>\n    <tr>\n      <td>3</td>\n      <td>408</td>\n      <td>2009</td>\n      <td>X-Men Origins: Wolverine</td>\n      <td>$218,498,075</td>\n      <td>https://www.the-numbers.com/movie/X-Men-Origin...</td>\n    </tr>\n    <tr>\n      <td>4</td>\n      <td>409</td>\n      <td>2002</td>\n      <td>The Santa Clause 2</td>\n      <td>$218,249,983</td>\n      <td>https://www.the-numbers.com/movie/Santa-Clause...</td>\n    </tr>\n    <tr>\n      <td>5</td>\n      <td>410</td>\n      <td>2015</td>\n      <td>Cinderella</td>\n      <td>$217,377,081</td>\n      <td>https://www.the-numbers.com/movie/Cinderella-(...</td>\n    </tr>\n    <tr>\n      <td>6</td>\n      <td>413</td>\n      <td>2018</td>\n      <td>Ant-Man and the Wasp</td>\n      <td>$216,648,740</td>\n      <td>https://www.the-numbers.com/movie/Ant-Man-and-...</td>\n    </tr>\n    <tr>\n      <td>7</td>\n      <td>414</td>\n      <td>2012</td>\n      <td>Wreck-It Ralph</td>\n      <td>$216,516,450</td>\n      <td>https://www.the-numbers.com/movie/Wreck-It-Ral...</td>\n    </tr>\n    <tr>\n      <td>8</td>\n      <td>415</td>\n      <td>2018</td>\n      <td>Bohemian Rhapsody</td>\n      <td>$216,303,340</td>\n      <td>https://www.the-numbers.com/movie/Bohemian-Rha...</td>\n    </tr>\n    <tr>\n      <td>9</td>\n      <td>416</td>\n      <td>2015</td>\n      <td>Spectre</td>\n      <td>$216,131,343</td>\n      <td>https://www.the-numbers.com/movie/Spectre#tab=...</td>\n    </tr>\n    <tr>\n      <td>10</td>\n      <td>419</td>\n      <td>2006</td>\n      <td>Over the Hedge</td>\n      <td>$215,607,044</td>\n      <td>https://www.the-numbers.com/movie/Over-the-Hed...</td>\n    </tr>\n    <tr>\n      <td>11</td>\n      <td>420</td>\n      <td>2009</td>\n      <td>Night at the Museum: Battle of the Smithsonian</td>\n      <td>$215,292,039</td>\n      <td>https://www.the-numbers.com/movie/Night-at-the...</td>\n    </tr>\n    <tr>\n      <td>12</td>\n      <td>421</td>\n      <td>2018</td>\n      <td>A Star is Born</td>\n      <td>$215,288,866</td>\n      <td>https://www.the-numbers.com/movie/Star-is-Born...</td>\n    </tr>\n    <tr>\n      <td>13</td>\n      <td>424</td>\n      <td>2008</td>\n      <td>Quantum of Solace</td>\n      <td>$214,757,090</td>\n      <td>https://www.the-numbers.com/movie/Quantum-of-S...</td>\n    </tr>\n    <tr>\n      <td>14</td>\n      <td>426</td>\n      <td>2011</td>\n      <td>Sherlock Holmes: A Game of Shadows</td>\n      <td>$214,435,626</td>\n      <td>https://www.the-numbers.com/movie/Sherlock-Hol...</td>\n    </tr>\n    <tr>\n      <td>15</td>\n      <td>427</td>\n      <td>2014</td>\n      <td>22 Jump Street</td>\n      <td>$213,777,619</td>\n      <td>https://www.the-numbers.com/movie/22-Jump-Stre...</td>\n    </tr>\n    <tr>\n      <td>16</td>\n      <td>428</td>\n      <td>2018</td>\n      <td>Solo: A Star Wars Story</td>\n      <td>$213,767,512</td>\n      <td>https://www.the-numbers.com/movie/Solo-A-Star-...</td>\n    </tr>\n    <tr>\n      <td>17</td>\n      <td>429</td>\n      <td>2018</td>\n      <td>Venom</td>\n      <td>$213,511,408</td>\n      <td>https://www.the-numbers.com/movie/Venom-(2018)...</td>\n    </tr>\n    <tr>\n      <td>18</td>\n      <td>430</td>\n      <td>2014</td>\n      <td>Teenage Mutant Ninja Turtles</td>\n      <td>$213,203,826</td>\n      <td>https://www.the-numbers.com/movie/Teenage-Muta...</td>\n    </tr>\n    <tr>\n      <td>19</td>\n      <td>432</td>\n      <td>2017</td>\n      <td>Coco</td>\n      <td>$212,532,784</td>\n      <td>https://www.the-numbers.com/movie/Coco-(2017)#...</td>\n    </tr>\n    <tr>\n      <td>20</td>\n      <td>433</td>\n      <td>2004</td>\n      <td>I, Robot</td>\n      <td>$212,421,468</td>\n      <td>https://www.the-numbers.com/movie/I-Robot#tab=...</td>\n    </tr>\n    <tr>\n      <td>21</td>\n      <td>436</td>\n      <td>2019</td>\n      <td>It: Chapter Two</td>\n      <td>$211,593,228</td>\n      <td>https://www.the-numbers.com/movie/It-Chapter-T...</td>\n    </tr>\n    <tr>\n      <td>22</td>\n      <td>438</td>\n      <td>2001</td>\n      <td>Lara Croft: Tomb Raider</td>\n      <td>$211,081,889</td>\n      <td>https://www.the-numbers.com/movie/Lara-Croft-T...</td>\n    </tr>\n    <tr>\n      <td>23</td>\n      <td>439</td>\n      <td>2015</td>\n      <td>Mission: Impossible—Rogue Nation</td>\n      <td>$210,775,328</td>\n      <td>https://www.the-numbers.com/movie/Mission-Impo...</td>\n    </tr>\n    <tr>\n      <td>24</td>\n      <td>440</td>\n      <td>2003</td>\n      <td>The Matrix Revolutions</td>\n      <td>$210,364,859</td>\n      <td>https://www.the-numbers.com/movie/Matrix-Revol...</td>\n    </tr>\n    <tr>\n      <td>25</td>\n      <td>442</td>\n      <td>2013</td>\n      <td>The Croods</td>\n      <td>$209,729,928</td>\n      <td>https://www.the-numbers.com/movie/Croods-The#t...</td>\n    </tr>\n    <tr>\n      <td>26</td>\n      <td>443</td>\n      <td>2014</td>\n      <td>Interstellar</td>\n      <td>$209,470,922</td>\n      <td>https://www.the-numbers.com/movie/Interstellar...</td>\n    </tr>\n    <tr>\n      <td>27</td>\n      <td>445</td>\n      <td>2003</td>\n      <td>Bad Boys II</td>\n      <td>$209,304,691</td>\n      <td>https://www.the-numbers.com/movie/Bad-Boys-II#...</td>\n    </tr>\n    <tr>\n      <td>28</td>\n      <td>455</td>\n      <td>2011</td>\n      <td>Thor</td>\n      <td>$207,968,346</td>\n      <td>https://www.the-numbers.com/movie/Thor#tab=sum...</td>\n    </tr>\n    <tr>\n      <td>29</td>\n      <td>456</td>\n      <td>2012</td>\n      <td>Lincoln</td>\n      <td>$207,619,742</td>\n      <td>https://www.the-numbers.com/movie/Lincoln#tab=...</td>\n    </tr>\n    <tr>\n      <td>30</td>\n      <td>461</td>\n      <td>2003</td>\n      <td>Cheaper by the Dozen</td>\n      <td>$207,095,325</td>\n      <td>https://www.the-numbers.com/movie/Cheaper-by-t...</td>\n    </tr>\n    <tr>\n      <td>31</td>\n      <td>463</td>\n      <td>2002</td>\n      <td>Minority Report</td>\n      <td>$207,012,925</td>\n      <td>https://www.the-numbers.com/movie/Minority-Rep...</td>\n    </tr>\n    <tr>\n      <td>32</td>\n      <td>465</td>\n      <td>2006</td>\n      <td>Talladega Nights: The Ballad of Ricky Bobby</td>\n      <td>$206,141,044</td>\n      <td>https://www.the-numbers.com/movie/Talladega-Ni...</td>\n    </tr>\n    <tr>\n      <td>33</td>\n      <td>467</td>\n      <td>2012</td>\n      <td>Men in Black 3</td>\n      <td>$204,884,419</td>\n      <td>https://www.the-numbers.com/movie/Men-in-Black...</td>\n    </tr>\n    <tr>\n      <td>34</td>\n      <td>468</td>\n      <td>2003</td>\n      <td>Anger Management</td>\n      <td>$204,802,675</td>\n      <td>https://www.the-numbers.com/movie/Anger-Manage...</td>\n    </tr>\n    <tr>\n      <td>35</td>\n      <td>469</td>\n      <td>2020</td>\n      <td>Bad Boys For Life</td>\n      <td>$204,417,855</td>\n      <td>https://www.the-numbers.com/movie/Bad-Boys-For...</td>\n    </tr>\n    <tr>\n      <td>36</td>\n      <td>471</td>\n      <td>2010</td>\n      <td>The Karate Kid</td>\n      <td>$203,897,296</td>\n      <td>https://www.the-numbers.com/movie/Karate-Kid-T...</td>\n    </tr>\n    <tr>\n      <td>37</td>\n      <td>473</td>\n      <td>2011</td>\n      <td>Rise of the Planet of the Apes</td>\n      <td>$203,062,456</td>\n      <td>https://www.the-numbers.com/movie/Rise-of-the-...</td>\n    </tr>\n    <tr>\n      <td>38</td>\n      <td>474</td>\n      <td>2011</td>\n      <td>Captain America: The First Avenger</td>\n      <td>$202,941,056</td>\n      <td>https://www.the-numbers.com/movie/Captain-Amer...</td>\n    </tr>\n    <tr>\n      <td>39</td>\n      <td>475</td>\n      <td>2002</td>\n      <td>The Ring</td>\n      <td>$202,311,026</td>\n      <td>https://www.the-numbers.com/movie/Ring-The#tab...</td>\n    </tr>\n    <tr>\n      <td>40</td>\n      <td>476</td>\n      <td>2009</td>\n      <td>2012</td>\n      <td>$201,610,604</td>\n      <td>https://www.the-numbers.com/movie/2012#tab=sum...</td>\n    </tr>\n    <tr>\n      <td>41</td>\n      <td>477</td>\n      <td>2018</td>\n      <td>Ralph Breaks The Internet</td>\n      <td>$201,091,711</td>\n      <td>https://www.the-numbers.com/movie/Ralph-Breaks...</td>\n    </tr>\n    <tr>\n      <td>42</td>\n      <td>480</td>\n      <td>2003</td>\n      <td>Bringing Down the House</td>\n      <td>$200,443,267</td>\n      <td>https://www.the-numbers.com/movie/Bringing-Dow...</td>\n    </tr>\n    <tr>\n      <td>43</td>\n      <td>483</td>\n      <td>2003</td>\n      <td>Hulk</td>\n      <td>$199,690,644</td>\n      <td>https://www.the-numbers.com/movie/Hulk#tab=sum...</td>\n    </tr>\n    <tr>\n      <td>44</td>\n      <td>485</td>\n      <td>2002</td>\n      <td>Sweet Home Alabama</td>\n      <td>$199,405,419</td>\n      <td>https://www.the-numbers.com/movie/Sweet-Home-A...</td>\n    </tr>\n    <tr>\n      <td>45</td>\n      <td>486</td>\n      <td>2015</td>\n      <td>Pitch Perfect 2</td>\n      <td>$199,162,355</td>\n      <td>https://www.the-numbers.com/movie/Pitch-Perfec...</td>\n    </tr>\n    <tr>\n      <td>46</td>\n      <td>487</td>\n      <td>2009</td>\n      <td>The Proposal</td>\n      <td>$199,154,357</td>\n      <td>https://www.the-numbers.com/movie/Proposal-The...</td>\n    </tr>\n    <tr>\n      <td>47</td>\n      <td>489</td>\n      <td>2010</td>\n      <td>Tron: Legacy</td>\n      <td>$198,430,777</td>\n      <td>https://www.the-numbers.com/movie/Tron-Legacy#...</td>\n    </tr>\n    <tr>\n      <td>48</td>\n      <td>490</td>\n      <td>2002</td>\n      <td>Mr. Deeds</td>\n      <td>$198,026,393</td>\n      <td>https://www.the-numbers.com/movie/Mr-Deeds#tab...</td>\n    </tr>\n    <tr>\n      <td>49</td>\n      <td>492</td>\n      <td>2014</td>\n      <td>How to Train Your Dragon 2</td>\n      <td>$197,368,004</td>\n      <td>https://www.the-numbers.com/movie/How-to-Train...</td>\n    </tr>\n    <tr>\n      <td>50</td>\n      <td>493</td>\n      <td>2010</td>\n      <td>True Grit</td>\n      <td>$197,229,086</td>\n      <td>https://www.the-numbers.com/movie/True-Grit-(2...</td>\n    </tr>\n    <tr>\n      <td>51</td>\n      <td>495</td>\n      <td>2007</td>\n      <td>Knocked Up</td>\n      <td>$196,979,599</td>\n      <td>https://www.the-numbers.com/movie/Knocked-Up#t...</td>\n    </tr>\n    <tr>\n      <td>52</td>\n      <td>498</td>\n      <td>2008</td>\n      <td>Horton Hears a Who</td>\n      <td>$196,067,297</td>\n      <td>https://www.the-numbers.com/movie/Horton-Hears...</td>\n    </tr>\n    <tr>\n      <td>53</td>\n      <td>500</td>\n      <td>2004</td>\n      <td>Troy</td>\n      <td>$195,547,507</td>\n      <td>https://www.the-numbers.com/movie/Troy#tab=sum...</td>\n    </tr>\n  </tbody>\n</table>\n</div>"
     },
     "metadata": {},
     "execution_count": 13
    }
   ],
   "source": [
    "df_global.reset_index(drop=True)"
   ]
  },
  {
   "cell_type": "code",
   "execution_count": 14,
   "metadata": {},
   "outputs": [
    {
     "output_type": "execute_result",
     "data": {
      "text/plain": "'Mission: Impossible—Fallout'"
     },
     "metadata": {},
     "execution_count": 14
    }
   ],
   "source": [
    "#\"https://www.the-numbers.com\" + \n",
    "movie_title = df_global['Movie'][0]\n",
    "movie_title"
   ]
  },
  {
   "cell_type": "code",
   "execution_count": 15,
   "metadata": {},
   "outputs": [],
   "source": [
    "movie_url = df_global['url'][0]"
   ]
  },
  {
   "cell_type": "code",
   "execution_count": 16,
   "metadata": {},
   "outputs": [
    {
     "output_type": "execute_result",
     "data": {
      "text/plain": "'https://www.the-numbers.com/movie/Mission-Impossible-Fallout#tab=summary'"
     },
     "metadata": {},
     "execution_count": 16
    }
   ],
   "source": [
    "movie_url"
   ]
  },
  {
   "cell_type": "code",
   "execution_count": 18,
   "metadata": {},
   "outputs": [],
   "source": [
    "movie_page = requests.get(movie_url)\n",
    "movie_tree = html.fromstring(movie_page.content)"
   ]
  },
  {
   "cell_type": "code",
   "execution_count": 19,
   "metadata": {},
   "outputs": [],
   "source": [
    "tabele_film = pd.read_html(movie_page.content)"
   ]
  },
  {
   "cell_type": "code",
   "execution_count": 25,
   "metadata": {},
   "outputs": [
    {
     "output_type": "execute_result",
     "data": {
      "text/plain": "            Date Rank        Gross   %YD   %LW  Theaters Per Theater  \\\n0   Jul 26, 2018    P   $6,000,000   NaN   NaN         0         NaN   \n1   Jul 27, 2018    1  $22,803,458   NaN   NaN      4386      $5,199   \n2   Jul 28, 2018    1  $21,421,918   -6%   NaN      4386      $4,884   \n3   Jul 29, 2018    1  $17,011,158  -21%   NaN      4386      $3,879   \n4   Jul 30, 2018    1   $6,838,935  -60%   NaN      4386      $1,559   \n..           ...  ...          ...   ...   ...       ...         ...   \n80  Oct 14, 2018    -      $40,466  -44%  -60%       221        $183   \n81  Oct 15, 2018    -      $15,668  -61%  -77%       221         $71   \n82  Oct 16, 2018    -      $20,664  +32%  -53%       221         $94   \n83  Oct 17, 2018    -      $17,047  -18%  -47%       221         $77   \n84  Oct 18, 2018    -      $17,869   +5%  -43%       221         $81   \n\n     Total Gross  Days  \n0     $6,000,000   NaN  \n1    $22,803,458   1.0  \n2    $44,225,376   2.0  \n3    $61,236,534   3.0  \n4    $68,075,469   4.0  \n..           ...   ...  \n80  $220,087,856  80.0  \n81  $220,103,524  81.0  \n82  $220,124,188  82.0  \n83  $220,141,235  83.0  \n84  $220,159,104  84.0  \n\n[85 rows x 9 columns]",
      "text/html": "<div>\n<style scoped>\n    .dataframe tbody tr th:only-of-type {\n        vertical-align: middle;\n    }\n\n    .dataframe tbody tr th {\n        vertical-align: top;\n    }\n\n    .dataframe thead th {\n        text-align: right;\n    }\n</style>\n<table border=\"1\" class=\"dataframe\">\n  <thead>\n    <tr style=\"text-align: right;\">\n      <th></th>\n      <th>Date</th>\n      <th>Rank</th>\n      <th>Gross</th>\n      <th>%YD</th>\n      <th>%LW</th>\n      <th>Theaters</th>\n      <th>Per Theater</th>\n      <th>Total Gross</th>\n      <th>Days</th>\n    </tr>\n  </thead>\n  <tbody>\n    <tr>\n      <td>0</td>\n      <td>Jul 26, 2018</td>\n      <td>P</td>\n      <td>$6,000,000</td>\n      <td>NaN</td>\n      <td>NaN</td>\n      <td>0</td>\n      <td>NaN</td>\n      <td>$6,000,000</td>\n      <td>NaN</td>\n    </tr>\n    <tr>\n      <td>1</td>\n      <td>Jul 27, 2018</td>\n      <td>1</td>\n      <td>$22,803,458</td>\n      <td>NaN</td>\n      <td>NaN</td>\n      <td>4386</td>\n      <td>$5,199</td>\n      <td>$22,803,458</td>\n      <td>1.0</td>\n    </tr>\n    <tr>\n      <td>2</td>\n      <td>Jul 28, 2018</td>\n      <td>1</td>\n      <td>$21,421,918</td>\n      <td>-6%</td>\n      <td>NaN</td>\n      <td>4386</td>\n      <td>$4,884</td>\n      <td>$44,225,376</td>\n      <td>2.0</td>\n    </tr>\n    <tr>\n      <td>3</td>\n      <td>Jul 29, 2018</td>\n      <td>1</td>\n      <td>$17,011,158</td>\n      <td>-21%</td>\n      <td>NaN</td>\n      <td>4386</td>\n      <td>$3,879</td>\n      <td>$61,236,534</td>\n      <td>3.0</td>\n    </tr>\n    <tr>\n      <td>4</td>\n      <td>Jul 30, 2018</td>\n      <td>1</td>\n      <td>$6,838,935</td>\n      <td>-60%</td>\n      <td>NaN</td>\n      <td>4386</td>\n      <td>$1,559</td>\n      <td>$68,075,469</td>\n      <td>4.0</td>\n    </tr>\n    <tr>\n      <td>...</td>\n      <td>...</td>\n      <td>...</td>\n      <td>...</td>\n      <td>...</td>\n      <td>...</td>\n      <td>...</td>\n      <td>...</td>\n      <td>...</td>\n      <td>...</td>\n    </tr>\n    <tr>\n      <td>80</td>\n      <td>Oct 14, 2018</td>\n      <td>-</td>\n      <td>$40,466</td>\n      <td>-44%</td>\n      <td>-60%</td>\n      <td>221</td>\n      <td>$183</td>\n      <td>$220,087,856</td>\n      <td>80.0</td>\n    </tr>\n    <tr>\n      <td>81</td>\n      <td>Oct 15, 2018</td>\n      <td>-</td>\n      <td>$15,668</td>\n      <td>-61%</td>\n      <td>-77%</td>\n      <td>221</td>\n      <td>$71</td>\n      <td>$220,103,524</td>\n      <td>81.0</td>\n    </tr>\n    <tr>\n      <td>82</td>\n      <td>Oct 16, 2018</td>\n      <td>-</td>\n      <td>$20,664</td>\n      <td>+32%</td>\n      <td>-53%</td>\n      <td>221</td>\n      <td>$94</td>\n      <td>$220,124,188</td>\n      <td>82.0</td>\n    </tr>\n    <tr>\n      <td>83</td>\n      <td>Oct 17, 2018</td>\n      <td>-</td>\n      <td>$17,047</td>\n      <td>-18%</td>\n      <td>-47%</td>\n      <td>221</td>\n      <td>$77</td>\n      <td>$220,141,235</td>\n      <td>83.0</td>\n    </tr>\n    <tr>\n      <td>84</td>\n      <td>Oct 18, 2018</td>\n      <td>-</td>\n      <td>$17,869</td>\n      <td>+5%</td>\n      <td>-43%</td>\n      <td>221</td>\n      <td>$81</td>\n      <td>$220,159,104</td>\n      <td>84.0</td>\n    </tr>\n  </tbody>\n</table>\n<p>85 rows × 9 columns</p>\n</div>"
     },
     "metadata": {},
     "execution_count": 25
    }
   ],
   "source": [
    "tabele_film[10]"
   ]
  },
  {
   "cell_type": "code",
   "execution_count": null,
   "metadata": {},
   "outputs": [],
   "source": [
    "# tabele_film\n",
    "# jest 17 tabel\n",
    "# [0] ogólne dane ; total earnings\n",
    "# [1] statystyki takie jak legs, opening weekend, production budget, czy film zarobił, domestic BO inflation adjusted\n",
    "# [2] miejsce na ważnych rankingach w the-numbers.com\n",
    "# [3] informacje o gatunkach, długości, franchise, dacie premiery, języku\n",
    "# [4] pomniejsze rekordy\n",
    "# [5] główni aktorzy (mało - do star wars tylko driver, ridley i boyega)\n",
    "# [6] cała obsada chyba\n",
    "# [7] wszyscy twórcy np abrams, kasdan itp\n",
    "# [8] pozycje na różnych rankingach domestic\n",
    "# [9] tygodniowy boxoffice domestic\n",
    "# [10] MOJA GŁÓWNA TABELA - DZIENNY BOXOFFICE\n",
    "# [11] tygodniowy boxoffice global\n",
    "# [12] statystyki dla państw\n",
    "# [13] miejsca w rankingach international\n",
    "# [14] miejsca w rankingach worldwide\n",
    "# [15] tygodniowe ale nie w dolarach tylko w unitsthisWeek (co to jest?); spendingthisWeek, TotalSpending; domstic\n",
    "# [16] to samo co [15] ale chyba worldwide"
   ]
  },
  {
   "cell_type": "code",
   "execution_count": 55,
   "metadata": {},
   "outputs": [
    {
     "ename": "IndexError",
     "evalue": "list index out of range",
     "output_type": "error",
     "traceback": [
      "\u001b[1;31m---------------------------------------------------------------------------\u001b[0m",
      "\u001b[1;31mIndexError\u001b[0m                                Traceback (most recent call last)",
      "\u001b[1;32m<ipython-input-55-878dd91deb6a>\u001b[0m in \u001b[0;36m<module>\u001b[1;34m\u001b[0m\n\u001b[1;32m----> 1\u001b[1;33m \u001b[0mtabele_film\u001b[0m\u001b[1;33m[\u001b[0m\u001b[1;36m17\u001b[0m\u001b[1;33m]\u001b[0m\u001b[1;33m\u001b[0m\u001b[1;33m\u001b[0m\u001b[0m\n\u001b[0m",
      "\u001b[1;31mIndexError\u001b[0m: list index out of range"
     ]
    }
   ],
   "source": []
  },
  {
   "cell_type": "code",
   "execution_count": 56,
   "metadata": {},
   "outputs": [],
   "source": [
    "# TERA PISZEMY LOOP"
   ]
  },
  {
   "cell_type": "code",
   "execution_count": 63,
   "metadata": {},
   "outputs": [],
   "source": [
    "from random import randint\n",
    "from time import sleep\n",
    "import os"
   ]
  },
  {
   "cell_type": "code",
   "execution_count": 131,
   "metadata": {},
   "outputs": [
    {
     "output_type": "stream",
     "name": "stdout",
     "text": "6\n"
    }
   ],
   "source": [
    "print(randint(3,6))"
   ]
  },
  {
   "cell_type": "code",
   "execution_count": 64,
   "metadata": {},
   "outputs": [
    {
     "name": "stdout",
     "output_type": "stream",
     "text": [
      "Star Wars Ep. VII: The Force Awakens\n",
      "Avengers: Endgame\n",
      "Avatar\n",
      "Black Panther\n",
      "Avengers: Infinity War\n",
      "Titanic\n",
      "Jurassic World\n",
      "The Avengers\n",
      "Star Wars Ep. VIII: The Last Jedi\n",
      "Incredibles 2\n",
      "The Lion King\n",
      "The Dark Knight\n",
      "Rogue One: A Star Wars Story\n",
      "Star Wars: The Rise of Skywalker\n",
      "Beauty and the Beast\n",
      "Finding Dory\n",
      "Frozen II\n",
      "Star Wars Ep. I: The Phantom Menace\n",
      "Star Wars Ep. IV: A New Hope\n",
      "Avengers: Age of Ultron\n",
      "The Dark Knight Rises\n",
      "Shrek 2\n",
      "ET: The Extra-Terrestrial\n",
      "Toy Story 4\n",
      "Captain Marvel\n",
      "The Hunger Games: Catching Fire\n",
      "Pirates of the Caribbean: Dead Man’s Chest\n",
      "The Lion King\n",
      "Jurassic World: Fallen Kingdom\n",
      "Toy Story 3\n",
      "Wonder Woman\n",
      "Iron Man 3\n",
      "Captain America: Civil War\n",
      "The Hunger Games\n",
      "Spider-Man\n",
      "Jumanji: Welcome to the Jungle\n",
      "Jurassic Park\n",
      "Transformers: Revenge of the Fallen\n",
      "Frozen\n",
      "Spider-Man: Far From Home\n",
      "Guardians of the Galaxy Vol 2\n",
      "Harry Potter and the Deathly Hallows: Part II\n",
      "Finding Nemo\n",
      "Star Wars Ep. III: Revenge of the Sith\n",
      "The Lord of the Rings: The Return of the King\n",
      "Spider-Man 2\n",
      "The Passion of the Christ\n",
      "The Secret Life of Pets\n",
      "Despicable Me 2\n",
      "The Jungle Book\n",
      "Deadpool\n",
      "Inside Out\n",
      "Aladdin\n",
      "Furious 7\n",
      "Transformers: Dark of the Moon\n",
      "American Sniper\n",
      "The Lord of the Rings: The Two Towers\n",
      "Zootopia\n",
      "The Hunger Games: Mockingjay - Part 1\n",
      "Spider-Man 3\n",
      "Minions\n",
      "Joker\n",
      "Aquaman\n",
      "Spider-Man: Homecoming\n",
      "Alice in Wonderland\n",
      "Guardians of the Galaxy\n",
      "Batman v Superman: Dawn of Justice\n",
      "Forrest Gump\n",
      "It\n",
      "Suicide Squad\n",
      "Deadpool 2\n",
      "Shrek the Third\n",
      "Transformers\n",
      "Iron Man\n",
      "Harry Potter and the Sorcerer’s Stone\n",
      "Indiana Jones and the Kingdom of the Crystal Skull\n",
      "Jumanji: The Next Level\n",
      "The Lord of the Rings: The Fellowship of the Ring\n",
      "Thor: Ragnarok\n",
      "Iron Man 2\n",
      "Star Wars Ep. II: Attack of the Clones\n",
      "Pirates of the Caribbean: At World’s End\n",
      "Star Wars Ep. VI: Return of the Jedi\n",
      "Independence Day\n",
      "Pirates of the Caribbean: The Curse of the Blac…\n",
      "Skyfall\n",
      "The Hobbit: An Unexpected Journey\n",
      "Harry Potter and the Half-Blood Prince\n",
      "The Twilight Saga: Eclipse\n",
      "The Twilight Saga: New Moon\n",
      "Harry Potter and the Deathly Hallows: Part I\n",
      "The Sixth Sense\n",
      "Up\n",
      "Inception\n",
      "The Twilight Saga: Breaking Dawn, Part 2\n",
      "Harry Potter and the Order of the Phoenix\n",
      "The Chronicles of Narnia: The Lion, the Witch a…\n",
      "Man of Steel\n",
      "Star Wars Ep. V: The Empire Strikes Back\n",
      "Harry Potter and the Goblet of Fire\n"
     ]
    }
   ],
   "source": [
    "from random import randint\n",
    "from time import sleep\n",
    "import os\n",
    "\n",
    "\n",
    "\n",
    "movies = tabela[0]['Movie']\n",
    "for title in movies:\n",
    "    foldername = title.replace('.','').replace(' ', '_').replace(':','')\n",
    "    if not os.path.exists(f'boxoffice_data/{foldername}'):\n",
    "        os.makedirs(f'boxoffice_data/{foldername}')\n",
    "    #sleep(randint(3,6))\n",
    "    print(title)"
   ]
  },
  {
   "cell_type": "code",
   "execution_count": 61,
   "metadata": {},
   "outputs": [],
   "source": [
    "import os\n",
    "if not os.path.exists('boxoffice_data/film1'):\n",
    "    os.makedirs('boxoffice_data/film1')"
   ]
  }
 ],
 "metadata": {
  "kernelspec": {
   "display_name": "Python 3",
   "language": "python",
   "name": "python3"
  },
  "language_info": {
   "codemirror_mode": {
    "name": "ipython",
    "version": 3
   },
   "file_extension": ".py",
   "mimetype": "text/x-python",
   "name": "python",
   "nbconvert_exporter": "python",
   "pygments_lexer": "ipython3",
   "version": "3.7.4-final"
  }
 },
 "nbformat": 4,
 "nbformat_minor": 2
}